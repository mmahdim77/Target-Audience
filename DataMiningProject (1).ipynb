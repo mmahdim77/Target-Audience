{
 "cells": [
  {
   "cell_type": "markdown",
   "metadata": {},
   "source": [
    "# Data mining - Target Audience\n"
   ]
  },
  {
   "cell_type": "markdown",
   "metadata": {},
   "source": [
    "# import libraries"
   ]
  },
  {
   "cell_type": "code",
   "execution_count": 1,
   "metadata": {},
   "outputs": [],
   "source": [
    "import numpy as np\n",
    "import pandas as pd\n",
    "import matplotlib.pyplot as plt\n",
    "import missingno as mno\n",
    "import seaborn as sns\n",
    "sns.set(style=\"ticks\")\n",
    "\n",
    "from sklearn.impute import SimpleImputer\n",
    "from sklearn import preprocessing\n",
    "from sklearn.model_selection import train_test_split\n",
    "from sklearn.metrics import f1_score\n",
    "from sklearn.linear_model import LogisticRegression\n",
    "from sklearn.svm import SVC\n",
    "from sklearn.tree import DecisionTreeClassifier\n",
    "from sklearn.ensemble import RandomForestClassifier\n",
    "from xgboost import XGBClassifier\n",
    "from sklearn.ensemble import AdaBoostClassifier\n",
    "from sklearn.pipeline import Pipeline\n",
    "from sklearn.preprocessing import StandardScaler,PolynomialFeatures \n",
    "from sklearn.svm import LinearSVC\n",
    "\n",
    "from sklearn.cluster import KMeans"
   ]
  },
  {
   "cell_type": "markdown",
   "metadata": {},
   "source": [
    "## Load Data"
   ]
  },
  {
   "cell_type": "code",
   "execution_count": 2,
   "metadata": {},
   "outputs": [],
   "source": [
    "main_df = pd.read_csv('sales_data.csv')"
   ]
  },
  {
   "cell_type": "markdown",
   "metadata": {},
   "source": [
    "# Data Frame"
   ]
  },
  {
   "cell_type": "code",
   "execution_count": 53,
   "metadata": {
    "scrolled": true
   },
   "outputs": [
    {
     "data": {
      "text/html": [
       "<div>\n",
       "<style scoped>\n",
       "    .dataframe tbody tr th:only-of-type {\n",
       "        vertical-align: middle;\n",
       "    }\n",
       "\n",
       "    .dataframe tbody tr th {\n",
       "        vertical-align: top;\n",
       "    }\n",
       "\n",
       "    .dataframe thead th {\n",
       "        text-align: right;\n",
       "    }\n",
       "</style>\n",
       "<table border=\"1\" class=\"dataframe\">\n",
       "  <thead>\n",
       "    <tr style=\"text-align: right;\">\n",
       "      <th></th>\n",
       "      <th>index</th>\n",
       "      <th>flag</th>\n",
       "      <th>gender</th>\n",
       "      <th>house_val</th>\n",
       "      <th>online</th>\n",
       "      <th>marriage</th>\n",
       "      <th>child</th>\n",
       "      <th>mortgage</th>\n",
       "      <th>house_owner</th>\n",
       "      <th>car_prob</th>\n",
       "      <th>...</th>\n",
       "      <th>age_3_&lt;=35</th>\n",
       "      <th>age_4_&lt;=45</th>\n",
       "      <th>age_5_&lt;=55</th>\n",
       "      <th>age_6_&lt;=65</th>\n",
       "      <th>age_7_&gt;65</th>\n",
       "      <th>education_0. &lt;HS</th>\n",
       "      <th>education_1. HS</th>\n",
       "      <th>education_2. Some College</th>\n",
       "      <th>education_3. Bach</th>\n",
       "      <th>education_4. Grad</th>\n",
       "    </tr>\n",
       "  </thead>\n",
       "  <tbody>\n",
       "    <tr>\n",
       "      <td>0</td>\n",
       "      <td>0</td>\n",
       "      <td>N</td>\n",
       "      <td>F</td>\n",
       "      <td>213171</td>\n",
       "      <td>N</td>\n",
       "      <td>NaN</td>\n",
       "      <td>NaN</td>\n",
       "      <td>1Low</td>\n",
       "      <td>Owner</td>\n",
       "      <td>3</td>\n",
       "      <td>...</td>\n",
       "      <td>0</td>\n",
       "      <td>0</td>\n",
       "      <td>0</td>\n",
       "      <td>0</td>\n",
       "      <td>1</td>\n",
       "      <td>0</td>\n",
       "      <td>0</td>\n",
       "      <td>0</td>\n",
       "      <td>1</td>\n",
       "      <td>0</td>\n",
       "    </tr>\n",
       "    <tr>\n",
       "      <td>1</td>\n",
       "      <td>1</td>\n",
       "      <td>N</td>\n",
       "      <td>M</td>\n",
       "      <td>111147</td>\n",
       "      <td>Y</td>\n",
       "      <td>NaN</td>\n",
       "      <td>Y</td>\n",
       "      <td>1Low</td>\n",
       "      <td>Owner</td>\n",
       "      <td>1</td>\n",
       "      <td>...</td>\n",
       "      <td>0</td>\n",
       "      <td>0</td>\n",
       "      <td>0</td>\n",
       "      <td>0</td>\n",
       "      <td>0</td>\n",
       "      <td>0</td>\n",
       "      <td>0</td>\n",
       "      <td>1</td>\n",
       "      <td>0</td>\n",
       "      <td>0</td>\n",
       "    </tr>\n",
       "    <tr>\n",
       "      <td>2</td>\n",
       "      <td>2</td>\n",
       "      <td>Y</td>\n",
       "      <td>M</td>\n",
       "      <td>354151</td>\n",
       "      <td>Y</td>\n",
       "      <td>Single</td>\n",
       "      <td>NaN</td>\n",
       "      <td>1Low</td>\n",
       "      <td>NaN</td>\n",
       "      <td>2</td>\n",
       "      <td>...</td>\n",
       "      <td>0</td>\n",
       "      <td>0</td>\n",
       "      <td>0</td>\n",
       "      <td>0</td>\n",
       "      <td>0</td>\n",
       "      <td>0</td>\n",
       "      <td>0</td>\n",
       "      <td>1</td>\n",
       "      <td>0</td>\n",
       "      <td>0</td>\n",
       "    </tr>\n",
       "    <tr>\n",
       "      <td>3</td>\n",
       "      <td>3</td>\n",
       "      <td>Y</td>\n",
       "      <td>F</td>\n",
       "      <td>248694</td>\n",
       "      <td>Y</td>\n",
       "      <td>Married</td>\n",
       "      <td>N</td>\n",
       "      <td>2Med</td>\n",
       "      <td>Owner</td>\n",
       "      <td>1</td>\n",
       "      <td>...</td>\n",
       "      <td>0</td>\n",
       "      <td>0</td>\n",
       "      <td>0</td>\n",
       "      <td>1</td>\n",
       "      <td>0</td>\n",
       "      <td>0</td>\n",
       "      <td>0</td>\n",
       "      <td>0</td>\n",
       "      <td>1</td>\n",
       "      <td>0</td>\n",
       "    </tr>\n",
       "    <tr>\n",
       "      <td>4</td>\n",
       "      <td>4</td>\n",
       "      <td>N</td>\n",
       "      <td>F</td>\n",
       "      <td>416925</td>\n",
       "      <td>Y</td>\n",
       "      <td>Married</td>\n",
       "      <td>Y</td>\n",
       "      <td>1Low</td>\n",
       "      <td>Owner</td>\n",
       "      <td>2</td>\n",
       "      <td>...</td>\n",
       "      <td>0</td>\n",
       "      <td>0</td>\n",
       "      <td>1</td>\n",
       "      <td>0</td>\n",
       "      <td>0</td>\n",
       "      <td>0</td>\n",
       "      <td>0</td>\n",
       "      <td>0</td>\n",
       "      <td>1</td>\n",
       "      <td>0</td>\n",
       "    </tr>\n",
       "  </tbody>\n",
       "</table>\n",
       "<p>5 rows × 33 columns</p>\n",
       "</div>"
      ],
      "text/plain": [
       "   index flag gender  house_val online marriage child mortgage house_owner  \\\n",
       "0      0    N      F     213171      N      NaN   NaN     1Low       Owner   \n",
       "1      1    N      M     111147      Y      NaN     Y     1Low       Owner   \n",
       "2      2    Y      M     354151      Y   Single   NaN     1Low         NaN   \n",
       "3      3    Y      F     248694      Y  Married     N     2Med       Owner   \n",
       "4      4    N      F     416925      Y  Married     Y     1Low       Owner   \n",
       "\n",
       "   car_prob  ... age_3_<=35  age_4_<=45  age_5_<=55  age_6_<=65  age_7_>65  \\\n",
       "0         3  ...          0           0           0           0          1   \n",
       "1         1  ...          0           0           0           0          0   \n",
       "2         2  ...          0           0           0           0          0   \n",
       "3         1  ...          0           0           0           1          0   \n",
       "4         2  ...          0           0           1           0          0   \n",
       "\n",
       "   education_0. <HS  education_1. HS  education_2. Some College  \\\n",
       "0                 0                0                          0   \n",
       "1                 0                0                          1   \n",
       "2                 0                0                          1   \n",
       "3                 0                0                          0   \n",
       "4                 0                0                          0   \n",
       "\n",
       "   education_3. Bach  education_4. Grad  \n",
       "0                  1                  0  \n",
       "1                  0                  0  \n",
       "2                  0                  0  \n",
       "3                  1                  0  \n",
       "4                  1                  0  \n",
       "\n",
       "[5 rows x 33 columns]"
      ]
     },
     "execution_count": 53,
     "metadata": {},
     "output_type": "execute_result"
    }
   ],
   "source": [
    "main_df.head()"
   ]
  },
  {
   "cell_type": "markdown",
   "metadata": {},
   "source": [
    "###### Discribe features:\n",
    "gender: Gender of the customer\n",
    "\n",
    "education: Education background of customer\n",
    "\n",
    "house_val: Value of the residence the customer lives in\n",
    "\n",
    "age: Age of the customer by group\n",
    "\n",
    "online: Whether the customer had online shopping experience or not\n",
    "\n",
    "customer_psy: Variable describing consumer psychology based on the area of residence\n",
    "\n",
    "marriage: Marriage status of the customer\n",
    "\n",
    "children: Whether the customer has children or not\n",
    "\n",
    "occupation: Career information of the customer\n",
    "\n",
    "mortgage: Housing Loan Information of customers\n",
    "\n",
    "house_own: Whether the customer owns a house or not\n",
    "\n",
    "region: Information on the area in which the customer are located\n",
    "\n",
    "car_prob: The probability that the customer will buy a new car(1 means the maximum possible）\n",
    "\n",
    "fam_income: Family income Information of the customer(A means the lowest, and L means the highest)"
   ]
  },
  {
   "cell_type": "markdown",
   "metadata": {},
   "source": [
    "###### Shape of dataframe"
   ]
  },
  {
   "cell_type": "code",
   "execution_count": 4,
   "metadata": {},
   "outputs": [
    {
     "data": {
      "text/plain": [
       "(40000, 15)"
      ]
     },
     "execution_count": 4,
     "metadata": {},
     "output_type": "execute_result"
    }
   ],
   "source": [
    "main_df.shape"
   ]
  },
  {
   "cell_type": "code",
   "execution_count": 5,
   "metadata": {
    "scrolled": true
   },
   "outputs": [
    {
     "data": {
      "text/plain": [
       "flag            object\n",
       "gender          object\n",
       "education       object\n",
       "house_val        int64\n",
       "age             object\n",
       "online          object\n",
       "customer_psy    object\n",
       "marriage        object\n",
       "child           object\n",
       "occupation      object\n",
       "mortgage        object\n",
       "house_owner     object\n",
       "region          object\n",
       "car_prob         int64\n",
       "fam_income      object\n",
       "dtype: object"
      ]
     },
     "execution_count": 5,
     "metadata": {},
     "output_type": "execute_result"
    }
   ],
   "source": [
    "main_df.dtypes"
   ]
  },
  {
   "cell_type": "markdown",
   "metadata": {},
   "source": [
    "## Data Frame Unique Values"
   ]
  },
  {
   "cell_type": "code",
   "execution_count": 6,
   "metadata": {
    "scrolled": true
   },
   "outputs": [
    {
     "name": "stdout",
     "output_type": "stream",
     "text": [
      "flag ['Y' 'N']\n",
      "gender ['M' 'F' 'U']\n",
      "education ['4. Grad' '3. Bach' '2. Some College' '1. HS' '0. <HS' nan]\n",
      "house_val [756460 213171 111147 ... 120630 603554 213596]\n",
      "age ['1_Unk' '7_>65' '2_<=25' '6_<=65' '5_<=55' '4_<=45' '3_<=35']\n",
      "online ['N' 'Y']\n",
      "customer_psy ['B' 'E' 'C' 'J' 'A' 'G' 'F' 'I' 'D' 'H' 'U']\n",
      "marriage [nan 'Single' 'Married']\n",
      "child ['U' 'Y' 'N' '0']\n",
      "occupation ['Professional' 'Sales/Service' 'Blue Collar' 'Others' 'Retired' 'Farm']\n",
      "mortgage ['1Low' '2Med' '3High']\n",
      "house_owner [nan 'Owner' 'Renter']\n",
      "region ['Midwest' 'Northeast' 'West' 'South' 'Rest']\n",
      "car_prob [1 3 2 7 5 6 9 8 4 0]\n",
      "fam_income ['L' 'G' 'J' 'H' 'C' 'I' 'D' 'E' 'A' 'F' 'B' 'K' 'U']\n"
     ]
    }
   ],
   "source": [
    "for cat in main_df.columns:\n",
    "    print(cat, main_df[cat].unique())"
   ]
  },
  {
   "cell_type": "markdown",
   "metadata": {},
   "source": [
    "## Raplace undefined characters with NaN"
   ]
  },
  {
   "cell_type": "code",
   "execution_count": 7,
   "metadata": {},
   "outputs": [],
   "source": [
    "main_df['gender'] = main_df.gender.replace('U', np.NaN)\n",
    "main_df['age'] = main_df.age.replace('1_Unk', np.NaN)\n",
    "main_df['child'] = main_df.child.replace('U', np.NaN)\n",
    "main_df['child'] = main_df.child.replace('0', np.NaN)"
   ]
  },
  {
   "cell_type": "markdown",
   "metadata": {},
   "source": [
    "## Number and percentage of missing values"
   ]
  },
  {
   "cell_type": "markdown",
   "metadata": {},
   "source": [
    "Null distribiution in each category"
   ]
  },
  {
   "cell_type": "code",
   "execution_count": 8,
   "metadata": {},
   "outputs": [
    {
     "data": {
      "text/plain": [
       "<matplotlib.axes._subplots.AxesSubplot at 0x229713ee7c8>"
      ]
     },
     "execution_count": 8,
     "metadata": {},
     "output_type": "execute_result"
    },
    {
     "data": {
      "image/png": "[encoded data removed]",
      "text/plain": [
       "<Figure size 1800x720 with 2 Axes>"
      ]
     },
     "metadata": {
      "needs_background": "light"
     },
     "output_type": "display_data"
    }
   ],
   "source": [
    "#Visualize null data in array\n",
    "mno.matrix(main_df)"
   ]
  },
  {
   "cell_type": "markdown",
   "metadata": {},
   "source": [
    " Visualize some of features:"
   ]
  },
  {
   "cell_type": "code",
   "execution_count": 9,
   "metadata": {},
   "outputs": [
    {
     "data": {
      "image/png": "[encoded data removed]",
      "text/plain": [
       "<Figure size 432x288 with 1 Axes>"
      ]
     },
     "metadata": {
      "needs_background": "light"
     },
     "output_type": "display_data"
    },
    {
     "data": {
      "image/png": "[encoded data removed]",
      "text/plain": [
       "<Figure size 432x288 with 1 Axes>"
      ]
     },
     "metadata": {
      "needs_background": "light"
     },
     "output_type": "display_data"
    },
    {
     "data": {
      "image/png": "[encoded data removed]",
      "text/plain": [
       "<Figure size 432x288 with 1 Axes>"
      ]
     },
     "metadata": {
      "needs_background": "light"
     },
     "output_type": "display_data"
    },
    {
     "data": {
      "image/png": "[encoded data removed]",
      "text/plain": [
       "<Figure size 432x288 with 1 Axes>"
      ]
     },
     "metadata": {
      "needs_background": "light"
     },
     "output_type": "display_data"
    }
   ],
   "source": [
    "def category_stackedbar(df, category):\n",
    "    '''Returns stacked bar plot'''\n",
    "    return pd.DataFrame(\n",
    "        df.groupby(category).count()['flag'] / df.groupby(category).count()['flag'].sum() * 100).rename(columns={\"flag\": \"%\"}).T.plot(\n",
    "            kind='bar', \n",
    "            stacked=True\n",
    "    );\n",
    "\n",
    "category_stackedbar(main_df, 'gender');\n",
    "category_stackedbar(main_df, 'education');\n",
    "category_stackedbar(main_df, 'online');\n",
    "category_stackedbar(main_df, 'marriage');"
   ]
  },
  {
   "cell_type": "markdown",
   "metadata": {},
   "source": [
    "Number of unknown values for each feature"
   ]
  },
  {
   "cell_type": "code",
   "execution_count": 10,
   "metadata": {},
   "outputs": [
    {
     "data": {
      "text/plain": [
       "flag                0\n",
       "gender           1151\n",
       "education         741\n",
       "house_val           0\n",
       "age              6709\n",
       "online              0\n",
       "customer_psy        0\n",
       "marriage        14027\n",
       "child            8655\n",
       "occupation          0\n",
       "mortgage            0\n",
       "house_owner      3377\n",
       "region              0\n",
       "car_prob            0\n",
       "fam_income          0\n",
       "dtype: int64"
      ]
     },
     "execution_count": 10,
     "metadata": {},
     "output_type": "execute_result"
    }
   ],
   "source": [
    "main_df.isnull().sum()"
   ]
  },
  {
   "cell_type": "markdown",
   "metadata": {},
   "source": [
    "Proportion of unknown values for each feature"
   ]
  },
  {
   "cell_type": "code",
   "execution_count": 11,
   "metadata": {},
   "outputs": [
    {
     "data": {
      "text/plain": [
       "flag             0.0000\n",
       "gender           2.8775\n",
       "education        1.8525\n",
       "house_val        0.0000\n",
       "age             16.7725\n",
       "online           0.0000\n",
       "customer_psy     0.0000\n",
       "marriage        35.0675\n",
       "child           21.6375\n",
       "occupation       0.0000\n",
       "mortgage         0.0000\n",
       "house_owner      8.4425\n",
       "region           0.0000\n",
       "car_prob         0.0000\n",
       "fam_income       0.0000\n",
       "dtype: float64"
      ]
     },
     "execution_count": 11,
     "metadata": {},
     "output_type": "execute_result"
    }
   ],
   "source": [
    "main_df.isnull().sum() / main_df.shape[0] * 100"
   ]
  },
  {
   "cell_type": "markdown",
   "metadata": {},
   "source": [
    "در بالا نمونه داده ها و تعداد و توزیع مقادیر نامشخص را بررسی کردیم. در ادامه به دو شیوه مختلف به تعامل با این داده های نامشخص خواهیم پرداخت.\n",
    "در نمونه اول از احتمالات برای پیشبینی مقادیر استفاده می کنیم\n",
    "و در نمونه دوم با استفاده از روش خوشه بندی مقادیر نامشخص را پیشبینی می کنیم\n",
    "و در انتها مدل ها را بر روی هر یک از مجموعه داده های به دست آمده اجرا می کنیم و نتایج را بررسی می کنیم.\n",
    "بدین منظور ابتدا یک کپی از داده های اصلی برای استفاده در روش اول نگهداری می کنیم"
   ]
  },
  {
   "cell_type": "markdown",
   "metadata": {},
   "source": [
    "# First Approach\n",
    "### Copy Main Dataframe to another one for preprocessing"
   ]
  },
  {
   "cell_type": "code",
   "execution_count": 12,
   "metadata": {},
   "outputs": [],
   "source": [
    "temp_df = main_df.copy()"
   ]
  },
  {
   "cell_type": "code",
   "execution_count": 13,
   "metadata": {},
   "outputs": [
    {
     "data": {
      "text/plain": [
       "(40000, 15)"
      ]
     },
     "execution_count": 13,
     "metadata": {},
     "output_type": "execute_result"
    }
   ],
   "source": [
    "temp_df.shape"
   ]
  },
  {
   "cell_type": "markdown",
   "metadata": {},
   "source": [
    "### Fill education and gender missing values with imputer (most frequent strategy)"
   ]
  },
  {
   "cell_type": "markdown",
   "metadata": {},
   "source": [
    "با توجه به این که ویژگی های تحصیلات و جنسیت کم ترین تعداد مقادیر نامشخص را دارند، این مقادیر نامشخص را با پرتکرار ترین مقدار هر ویژگی جایگزین می کنیم"
   ]
  },
  {
   "cell_type": "code",
   "execution_count": 14,
   "metadata": {},
   "outputs": [],
   "source": [
    "imp = SimpleImputer(strategy='most_frequent')\n",
    "temp_df['education'] = imp.fit_transform(temp_df[['education']]).ravel()\n",
    "temp_df['gender'] = imp.fit_transform(temp_df[['gender']]).ravel()"
   ]
  },
  {
   "cell_type": "code",
   "execution_count": 15,
   "metadata": {},
   "outputs": [
    {
     "data": {
      "text/plain": [
       "flag             0.0000\n",
       "gender           0.0000\n",
       "education        0.0000\n",
       "house_val        0.0000\n",
       "age             16.7725\n",
       "online           0.0000\n",
       "customer_psy     0.0000\n",
       "marriage        35.0675\n",
       "child           21.6375\n",
       "occupation       0.0000\n",
       "mortgage         0.0000\n",
       "house_owner      8.4425\n",
       "region           0.0000\n",
       "car_prob         0.0000\n",
       "fam_income       0.0000\n",
       "dtype: float64"
      ]
     },
     "execution_count": 15,
     "metadata": {},
     "output_type": "execute_result"
    }
   ],
   "source": [
    "temp_df.isnull().sum() / temp_df.shape[0] * 100"
   ]
  },
  {
   "cell_type": "markdown",
   "metadata": {},
   "source": [
    "### Fill missing values with prob (for house_owner, marriage and child)"
   ]
  },
  {
   "cell_type": "markdown",
   "metadata": {},
   "source": [
    "به دلیل این که ویژگی های زیر درصد بیشتری از مقادیر نامشخص را شامل می شوند برای پیشبینی مقادیر آنها از احتمال مقدار مثبت آن استفاده می کنیم. (خانه داشتن، ازدواج کرده، دارای فرزند) (تمام این سه ویژگی دو مقداری هستند)"
   ]
  },
  {
   "cell_type": "code",
   "execution_count": 16,
   "metadata": {},
   "outputs": [],
   "source": [
    "def fillna_with_prob(category, df, attr1, attr2):\n",
    "    prob = len(df[df[category] == attr1]) / ( len(df[df[category] == attr1]) + len(df[df[category] == attr2]) ) \n",
    "    df[category].fillna(value=prob, inplace = True)\n",
    "    return df"
   ]
  },
  {
   "cell_type": "code",
   "execution_count": 17,
   "metadata": {},
   "outputs": [],
   "source": [
    "temp_df = fillna_with_prob('house_owner',temp_df, 'Owner','Renter')\n",
    "temp_df = fillna_with_prob('marriage',temp_df, 'Married','Single')\n",
    "temp_df = fillna_with_prob('child',temp_df, 'Y','N')"
   ]
  },
  {
   "cell_type": "code",
   "execution_count": 18,
   "metadata": {},
   "outputs": [
    {
     "data": {
      "text/plain": [
       "(40000, 15)"
      ]
     },
     "execution_count": 18,
     "metadata": {},
     "output_type": "execute_result"
    }
   ],
   "source": [
    "temp_df.shape"
   ]
  },
  {
   "cell_type": "code",
   "execution_count": 19,
   "metadata": {},
   "outputs": [
    {
     "data": {
      "text/plain": [
       "flag             0.0000\n",
       "gender           0.0000\n",
       "education        0.0000\n",
       "house_val        0.0000\n",
       "age             16.7725\n",
       "online           0.0000\n",
       "customer_psy     0.0000\n",
       "marriage         0.0000\n",
       "child            0.0000\n",
       "occupation       0.0000\n",
       "mortgage         0.0000\n",
       "house_owner      0.0000\n",
       "region           0.0000\n",
       "car_prob         0.0000\n",
       "fam_income       0.0000\n",
       "dtype: float64"
      ]
     },
     "execution_count": 19,
     "metadata": {},
     "output_type": "execute_result"
    }
   ],
   "source": [
    "temp_df.isnull().sum() / temp_df.shape[0] * 100"
   ]
  },
  {
   "cell_type": "markdown",
   "metadata": {},
   "source": [
    "با توجه به این که توزیع مقادیر ویژگی سن تقریبا در مقادیر مختلف یکسان است و توزیع غالب ندارد و با توجه به تعداد نسبتا کم رکورد های دارای مقدار نامشخص سن، تصمیم به حذف این رکورد ها گرفتیم (رکورد های دارای مقادیر نامشخص ویژگی سن)"
   ]
  },
  {
   "cell_type": "code",
   "execution_count": 20,
   "metadata": {},
   "outputs": [
    {
     "data": {
      "image/png": "[encoded data removed]",
      "text/plain": [
       "<Figure size 432x288 with 1 Axes>"
      ]
     },
     "metadata": {
      "needs_background": "light"
     },
     "output_type": "display_data"
    }
   ],
   "source": [
    "category_stackedbar(temp_df, 'age');"
   ]
  },
  {
   "cell_type": "code",
   "execution_count": 21,
   "metadata": {},
   "outputs": [],
   "source": [
    "temp_df = temp_df.dropna(subset=['age'])\n",
    "temp_df.reset_index(drop=True, inplace=True)\n",
    "temp_df=temp_df.reset_index()\n",
    "\n",
    "main_df = main_df.dropna(subset=['age'])\n",
    "main_df.reset_index(drop=True, inplace=True)\n",
    "main_df=main_df.reset_index()"
   ]
  },
  {
   "cell_type": "code",
   "execution_count": 22,
   "metadata": {},
   "outputs": [
    {
     "data": {
      "text/plain": [
       "(33291, 16)"
      ]
     },
     "execution_count": 22,
     "metadata": {},
     "output_type": "execute_result"
    }
   ],
   "source": [
    "temp_df.shape"
   ]
  },
  {
   "cell_type": "code",
   "execution_count": 23,
   "metadata": {},
   "outputs": [
    {
     "data": {
      "text/plain": [
       "(33291, 16)"
      ]
     },
     "execution_count": 23,
     "metadata": {},
     "output_type": "execute_result"
    }
   ],
   "source": [
    "main_df.shape"
   ]
  },
  {
   "cell_type": "code",
   "execution_count": 24,
   "metadata": {
    "scrolled": true
   },
   "outputs": [
    {
     "data": {
      "text/html": [
       "<div>\n",
       "<style scoped>\n",
       "    .dataframe tbody tr th:only-of-type {\n",
       "        vertical-align: middle;\n",
       "    }\n",
       "\n",
       "    .dataframe tbody tr th {\n",
       "        vertical-align: top;\n",
       "    }\n",
       "\n",
       "    .dataframe thead th {\n",
       "        text-align: right;\n",
       "    }\n",
       "</style>\n",
       "<table border=\"1\" class=\"dataframe\">\n",
       "  <thead>\n",
       "    <tr style=\"text-align: right;\">\n",
       "      <th></th>\n",
       "      <th>index</th>\n",
       "      <th>flag</th>\n",
       "      <th>gender</th>\n",
       "      <th>education</th>\n",
       "      <th>house_val</th>\n",
       "      <th>age</th>\n",
       "      <th>online</th>\n",
       "      <th>customer_psy</th>\n",
       "      <th>marriage</th>\n",
       "      <th>child</th>\n",
       "      <th>occupation</th>\n",
       "      <th>mortgage</th>\n",
       "      <th>house_owner</th>\n",
       "      <th>region</th>\n",
       "      <th>car_prob</th>\n",
       "      <th>fam_income</th>\n",
       "    </tr>\n",
       "  </thead>\n",
       "  <tbody>\n",
       "    <tr>\n",
       "      <td>0</td>\n",
       "      <td>0</td>\n",
       "      <td>N</td>\n",
       "      <td>F</td>\n",
       "      <td>3. Bach</td>\n",
       "      <td>213171</td>\n",
       "      <td>7_&gt;65</td>\n",
       "      <td>N</td>\n",
       "      <td>E</td>\n",
       "      <td>0.804335</td>\n",
       "      <td>0.574637</td>\n",
       "      <td>Professional</td>\n",
       "      <td>1Low</td>\n",
       "      <td>Owner</td>\n",
       "      <td>Northeast</td>\n",
       "      <td>3</td>\n",
       "      <td>G</td>\n",
       "    </tr>\n",
       "    <tr>\n",
       "      <td>1</td>\n",
       "      <td>1</td>\n",
       "      <td>N</td>\n",
       "      <td>M</td>\n",
       "      <td>2. Some College</td>\n",
       "      <td>111147</td>\n",
       "      <td>2_&lt;=25</td>\n",
       "      <td>Y</td>\n",
       "      <td>C</td>\n",
       "      <td>0.804335</td>\n",
       "      <td>Y</td>\n",
       "      <td>Professional</td>\n",
       "      <td>1Low</td>\n",
       "      <td>Owner</td>\n",
       "      <td>Midwest</td>\n",
       "      <td>1</td>\n",
       "      <td>J</td>\n",
       "    </tr>\n",
       "    <tr>\n",
       "      <td>2</td>\n",
       "      <td>2</td>\n",
       "      <td>Y</td>\n",
       "      <td>M</td>\n",
       "      <td>2. Some College</td>\n",
       "      <td>354151</td>\n",
       "      <td>2_&lt;=25</td>\n",
       "      <td>Y</td>\n",
       "      <td>B</td>\n",
       "      <td>Single</td>\n",
       "      <td>0.574637</td>\n",
       "      <td>Sales/Service</td>\n",
       "      <td>1Low</td>\n",
       "      <td>0.798187</td>\n",
       "      <td>West</td>\n",
       "      <td>2</td>\n",
       "      <td>L</td>\n",
       "    </tr>\n",
       "    <tr>\n",
       "      <td>3</td>\n",
       "      <td>3</td>\n",
       "      <td>Y</td>\n",
       "      <td>F</td>\n",
       "      <td>3. Bach</td>\n",
       "      <td>248694</td>\n",
       "      <td>6_&lt;=65</td>\n",
       "      <td>Y</td>\n",
       "      <td>B</td>\n",
       "      <td>Married</td>\n",
       "      <td>N</td>\n",
       "      <td>Professional</td>\n",
       "      <td>2Med</td>\n",
       "      <td>Owner</td>\n",
       "      <td>West</td>\n",
       "      <td>1</td>\n",
       "      <td>G</td>\n",
       "    </tr>\n",
       "    <tr>\n",
       "      <td>4</td>\n",
       "      <td>4</td>\n",
       "      <td>N</td>\n",
       "      <td>F</td>\n",
       "      <td>3. Bach</td>\n",
       "      <td>416925</td>\n",
       "      <td>5_&lt;=55</td>\n",
       "      <td>Y</td>\n",
       "      <td>C</td>\n",
       "      <td>Married</td>\n",
       "      <td>Y</td>\n",
       "      <td>Professional</td>\n",
       "      <td>1Low</td>\n",
       "      <td>Owner</td>\n",
       "      <td>South</td>\n",
       "      <td>2</td>\n",
       "      <td>I</td>\n",
       "    </tr>\n",
       "    <tr>\n",
       "      <td>...</td>\n",
       "      <td>...</td>\n",
       "      <td>...</td>\n",
       "      <td>...</td>\n",
       "      <td>...</td>\n",
       "      <td>...</td>\n",
       "      <td>...</td>\n",
       "      <td>...</td>\n",
       "      <td>...</td>\n",
       "      <td>...</td>\n",
       "      <td>...</td>\n",
       "      <td>...</td>\n",
       "      <td>...</td>\n",
       "      <td>...</td>\n",
       "      <td>...</td>\n",
       "      <td>...</td>\n",
       "      <td>...</td>\n",
       "    </tr>\n",
       "    <tr>\n",
       "      <td>33286</td>\n",
       "      <td>33286</td>\n",
       "      <td>Y</td>\n",
       "      <td>F</td>\n",
       "      <td>3. Bach</td>\n",
       "      <td>0</td>\n",
       "      <td>7_&gt;65</td>\n",
       "      <td>Y</td>\n",
       "      <td>C</td>\n",
       "      <td>0.804335</td>\n",
       "      <td>0.574637</td>\n",
       "      <td>Retired</td>\n",
       "      <td>1Low</td>\n",
       "      <td>0.798187</td>\n",
       "      <td>South</td>\n",
       "      <td>3</td>\n",
       "      <td>F</td>\n",
       "    </tr>\n",
       "    <tr>\n",
       "      <td>33287</td>\n",
       "      <td>33287</td>\n",
       "      <td>N</td>\n",
       "      <td>F</td>\n",
       "      <td>1. HS</td>\n",
       "      <td>213596</td>\n",
       "      <td>4_&lt;=45</td>\n",
       "      <td>N</td>\n",
       "      <td>I</td>\n",
       "      <td>Married</td>\n",
       "      <td>0.574637</td>\n",
       "      <td>Blue Collar</td>\n",
       "      <td>1Low</td>\n",
       "      <td>Owner</td>\n",
       "      <td>South</td>\n",
       "      <td>1</td>\n",
       "      <td>D</td>\n",
       "    </tr>\n",
       "    <tr>\n",
       "      <td>33288</td>\n",
       "      <td>33288</td>\n",
       "      <td>Y</td>\n",
       "      <td>M</td>\n",
       "      <td>0. &lt;HS</td>\n",
       "      <td>134070</td>\n",
       "      <td>3_&lt;=35</td>\n",
       "      <td>Y</td>\n",
       "      <td>F</td>\n",
       "      <td>Married</td>\n",
       "      <td>0.574637</td>\n",
       "      <td>Sales/Service</td>\n",
       "      <td>1Low</td>\n",
       "      <td>Owner</td>\n",
       "      <td>Midwest</td>\n",
       "      <td>4</td>\n",
       "      <td>E</td>\n",
       "    </tr>\n",
       "    <tr>\n",
       "      <td>33289</td>\n",
       "      <td>33289</td>\n",
       "      <td>N</td>\n",
       "      <td>M</td>\n",
       "      <td>1. HS</td>\n",
       "      <td>402210</td>\n",
       "      <td>7_&gt;65</td>\n",
       "      <td>Y</td>\n",
       "      <td>E</td>\n",
       "      <td>0.804335</td>\n",
       "      <td>Y</td>\n",
       "      <td>Sales/Service</td>\n",
       "      <td>1Low</td>\n",
       "      <td>0.798187</td>\n",
       "      <td>West</td>\n",
       "      <td>2</td>\n",
       "      <td>B</td>\n",
       "    </tr>\n",
       "    <tr>\n",
       "      <td>33290</td>\n",
       "      <td>33290</td>\n",
       "      <td>N</td>\n",
       "      <td>F</td>\n",
       "      <td>3. Bach</td>\n",
       "      <td>836030</td>\n",
       "      <td>7_&gt;65</td>\n",
       "      <td>Y</td>\n",
       "      <td>B</td>\n",
       "      <td>Married</td>\n",
       "      <td>N</td>\n",
       "      <td>Retired</td>\n",
       "      <td>2Med</td>\n",
       "      <td>Owner</td>\n",
       "      <td>Northeast</td>\n",
       "      <td>1</td>\n",
       "      <td>J</td>\n",
       "    </tr>\n",
       "  </tbody>\n",
       "</table>\n",
       "<p>33291 rows × 16 columns</p>\n",
       "</div>"
      ],
      "text/plain": [
       "       index flag gender        education  house_val     age online  \\\n",
       "0          0    N      F          3. Bach     213171   7_>65      N   \n",
       "1          1    N      M  2. Some College     111147  2_<=25      Y   \n",
       "2          2    Y      M  2. Some College     354151  2_<=25      Y   \n",
       "3          3    Y      F          3. Bach     248694  6_<=65      Y   \n",
       "4          4    N      F          3. Bach     416925  5_<=55      Y   \n",
       "...      ...  ...    ...              ...        ...     ...    ...   \n",
       "33286  33286    Y      F          3. Bach          0   7_>65      Y   \n",
       "33287  33287    N      F            1. HS     213596  4_<=45      N   \n",
       "33288  33288    Y      M           0. <HS     134070  3_<=35      Y   \n",
       "33289  33289    N      M            1. HS     402210   7_>65      Y   \n",
       "33290  33290    N      F          3. Bach     836030   7_>65      Y   \n",
       "\n",
       "      customer_psy  marriage     child     occupation mortgage house_owner  \\\n",
       "0                E  0.804335  0.574637   Professional     1Low       Owner   \n",
       "1                C  0.804335         Y   Professional     1Low       Owner   \n",
       "2                B    Single  0.574637  Sales/Service     1Low    0.798187   \n",
       "3                B   Married         N   Professional     2Med       Owner   \n",
       "4                C   Married         Y   Professional     1Low       Owner   \n",
       "...            ...       ...       ...            ...      ...         ...   \n",
       "33286            C  0.804335  0.574637        Retired     1Low    0.798187   \n",
       "33287            I   Married  0.574637    Blue Collar     1Low       Owner   \n",
       "33288            F   Married  0.574637  Sales/Service     1Low       Owner   \n",
       "33289            E  0.804335         Y  Sales/Service     1Low    0.798187   \n",
       "33290            B   Married         N        Retired     2Med       Owner   \n",
       "\n",
       "          region  car_prob fam_income  \n",
       "0      Northeast         3          G  \n",
       "1        Midwest         1          J  \n",
       "2           West         2          L  \n",
       "3           West         1          G  \n",
       "4          South         2          I  \n",
       "...          ...       ...        ...  \n",
       "33286      South         3          F  \n",
       "33287      South         1          D  \n",
       "33288    Midwest         4          E  \n",
       "33289       West         2          B  \n",
       "33290  Northeast         1          J  \n",
       "\n",
       "[33291 rows x 16 columns]"
      ]
     },
     "execution_count": 24,
     "metadata": {},
     "output_type": "execute_result"
    }
   ],
   "source": [
    "temp_df"
   ]
  },
  {
   "cell_type": "markdown",
   "metadata": {},
   "source": [
    "تمام مقادیر نامشخص به نوعی جایگزین یا حذف شدند"
   ]
  },
  {
   "cell_type": "code",
   "execution_count": 25,
   "metadata": {},
   "outputs": [
    {
     "data": {
      "text/plain": [
       "index           0.0\n",
       "flag            0.0\n",
       "gender          0.0\n",
       "education       0.0\n",
       "house_val       0.0\n",
       "age             0.0\n",
       "online          0.0\n",
       "customer_psy    0.0\n",
       "marriage        0.0\n",
       "child           0.0\n",
       "occupation      0.0\n",
       "mortgage        0.0\n",
       "house_owner     0.0\n",
       "region          0.0\n",
       "car_prob        0.0\n",
       "fam_income      0.0\n",
       "dtype: float64"
      ]
     },
     "execution_count": 25,
     "metadata": {},
     "output_type": "execute_result"
    }
   ],
   "source": [
    "temp_df.isnull().sum() / temp_df.shape[0] * 100"
   ]
  },
  {
   "cell_type": "code",
   "execution_count": 26,
   "metadata": {},
   "outputs": [
    {
     "data": {
      "text/html": [
       "<div>\n",
       "<style scoped>\n",
       "    .dataframe tbody tr th:only-of-type {\n",
       "        vertical-align: middle;\n",
       "    }\n",
       "\n",
       "    .dataframe tbody tr th {\n",
       "        vertical-align: top;\n",
       "    }\n",
       "\n",
       "    .dataframe thead th {\n",
       "        text-align: right;\n",
       "    }\n",
       "</style>\n",
       "<table border=\"1\" class=\"dataframe\">\n",
       "  <thead>\n",
       "    <tr style=\"text-align: right;\">\n",
       "      <th></th>\n",
       "      <th>index</th>\n",
       "      <th>flag</th>\n",
       "      <th>gender</th>\n",
       "      <th>education</th>\n",
       "      <th>house_val</th>\n",
       "      <th>age</th>\n",
       "      <th>online</th>\n",
       "      <th>customer_psy</th>\n",
       "      <th>marriage</th>\n",
       "      <th>child</th>\n",
       "      <th>occupation</th>\n",
       "      <th>mortgage</th>\n",
       "      <th>house_owner</th>\n",
       "      <th>region</th>\n",
       "      <th>car_prob</th>\n",
       "      <th>fam_income</th>\n",
       "    </tr>\n",
       "  </thead>\n",
       "  <tbody>\n",
       "    <tr>\n",
       "      <td>0</td>\n",
       "      <td>0</td>\n",
       "      <td>N</td>\n",
       "      <td>F</td>\n",
       "      <td>3. Bach</td>\n",
       "      <td>213171</td>\n",
       "      <td>7_&gt;65</td>\n",
       "      <td>N</td>\n",
       "      <td>E</td>\n",
       "      <td>0.804335</td>\n",
       "      <td>0.574637</td>\n",
       "      <td>Professional</td>\n",
       "      <td>1Low</td>\n",
       "      <td>Owner</td>\n",
       "      <td>Northeast</td>\n",
       "      <td>3</td>\n",
       "      <td>G</td>\n",
       "    </tr>\n",
       "    <tr>\n",
       "      <td>1</td>\n",
       "      <td>1</td>\n",
       "      <td>N</td>\n",
       "      <td>M</td>\n",
       "      <td>2. Some College</td>\n",
       "      <td>111147</td>\n",
       "      <td>2_&lt;=25</td>\n",
       "      <td>Y</td>\n",
       "      <td>C</td>\n",
       "      <td>0.804335</td>\n",
       "      <td>Y</td>\n",
       "      <td>Professional</td>\n",
       "      <td>1Low</td>\n",
       "      <td>Owner</td>\n",
       "      <td>Midwest</td>\n",
       "      <td>1</td>\n",
       "      <td>J</td>\n",
       "    </tr>\n",
       "    <tr>\n",
       "      <td>2</td>\n",
       "      <td>2</td>\n",
       "      <td>Y</td>\n",
       "      <td>M</td>\n",
       "      <td>2. Some College</td>\n",
       "      <td>354151</td>\n",
       "      <td>2_&lt;=25</td>\n",
       "      <td>Y</td>\n",
       "      <td>B</td>\n",
       "      <td>Single</td>\n",
       "      <td>0.574637</td>\n",
       "      <td>Sales/Service</td>\n",
       "      <td>1Low</td>\n",
       "      <td>0.798187</td>\n",
       "      <td>West</td>\n",
       "      <td>2</td>\n",
       "      <td>L</td>\n",
       "    </tr>\n",
       "    <tr>\n",
       "      <td>3</td>\n",
       "      <td>3</td>\n",
       "      <td>Y</td>\n",
       "      <td>F</td>\n",
       "      <td>3. Bach</td>\n",
       "      <td>248694</td>\n",
       "      <td>6_&lt;=65</td>\n",
       "      <td>Y</td>\n",
       "      <td>B</td>\n",
       "      <td>Married</td>\n",
       "      <td>N</td>\n",
       "      <td>Professional</td>\n",
       "      <td>2Med</td>\n",
       "      <td>Owner</td>\n",
       "      <td>West</td>\n",
       "      <td>1</td>\n",
       "      <td>G</td>\n",
       "    </tr>\n",
       "    <tr>\n",
       "      <td>4</td>\n",
       "      <td>4</td>\n",
       "      <td>N</td>\n",
       "      <td>F</td>\n",
       "      <td>3. Bach</td>\n",
       "      <td>416925</td>\n",
       "      <td>5_&lt;=55</td>\n",
       "      <td>Y</td>\n",
       "      <td>C</td>\n",
       "      <td>Married</td>\n",
       "      <td>Y</td>\n",
       "      <td>Professional</td>\n",
       "      <td>1Low</td>\n",
       "      <td>Owner</td>\n",
       "      <td>South</td>\n",
       "      <td>2</td>\n",
       "      <td>I</td>\n",
       "    </tr>\n",
       "    <tr>\n",
       "      <td>...</td>\n",
       "      <td>...</td>\n",
       "      <td>...</td>\n",
       "      <td>...</td>\n",
       "      <td>...</td>\n",
       "      <td>...</td>\n",
       "      <td>...</td>\n",
       "      <td>...</td>\n",
       "      <td>...</td>\n",
       "      <td>...</td>\n",
       "      <td>...</td>\n",
       "      <td>...</td>\n",
       "      <td>...</td>\n",
       "      <td>...</td>\n",
       "      <td>...</td>\n",
       "      <td>...</td>\n",
       "      <td>...</td>\n",
       "    </tr>\n",
       "    <tr>\n",
       "      <td>33286</td>\n",
       "      <td>33286</td>\n",
       "      <td>Y</td>\n",
       "      <td>F</td>\n",
       "      <td>3. Bach</td>\n",
       "      <td>0</td>\n",
       "      <td>7_&gt;65</td>\n",
       "      <td>Y</td>\n",
       "      <td>C</td>\n",
       "      <td>0.804335</td>\n",
       "      <td>0.574637</td>\n",
       "      <td>Retired</td>\n",
       "      <td>1Low</td>\n",
       "      <td>0.798187</td>\n",
       "      <td>South</td>\n",
       "      <td>3</td>\n",
       "      <td>F</td>\n",
       "    </tr>\n",
       "    <tr>\n",
       "      <td>33287</td>\n",
       "      <td>33287</td>\n",
       "      <td>N</td>\n",
       "      <td>F</td>\n",
       "      <td>1. HS</td>\n",
       "      <td>213596</td>\n",
       "      <td>4_&lt;=45</td>\n",
       "      <td>N</td>\n",
       "      <td>I</td>\n",
       "      <td>Married</td>\n",
       "      <td>0.574637</td>\n",
       "      <td>Blue Collar</td>\n",
       "      <td>1Low</td>\n",
       "      <td>Owner</td>\n",
       "      <td>South</td>\n",
       "      <td>1</td>\n",
       "      <td>D</td>\n",
       "    </tr>\n",
       "    <tr>\n",
       "      <td>33288</td>\n",
       "      <td>33288</td>\n",
       "      <td>Y</td>\n",
       "      <td>M</td>\n",
       "      <td>0. &lt;HS</td>\n",
       "      <td>134070</td>\n",
       "      <td>3_&lt;=35</td>\n",
       "      <td>Y</td>\n",
       "      <td>F</td>\n",
       "      <td>Married</td>\n",
       "      <td>0.574637</td>\n",
       "      <td>Sales/Service</td>\n",
       "      <td>1Low</td>\n",
       "      <td>Owner</td>\n",
       "      <td>Midwest</td>\n",
       "      <td>4</td>\n",
       "      <td>E</td>\n",
       "    </tr>\n",
       "    <tr>\n",
       "      <td>33289</td>\n",
       "      <td>33289</td>\n",
       "      <td>N</td>\n",
       "      <td>M</td>\n",
       "      <td>1. HS</td>\n",
       "      <td>402210</td>\n",
       "      <td>7_&gt;65</td>\n",
       "      <td>Y</td>\n",
       "      <td>E</td>\n",
       "      <td>0.804335</td>\n",
       "      <td>Y</td>\n",
       "      <td>Sales/Service</td>\n",
       "      <td>1Low</td>\n",
       "      <td>0.798187</td>\n",
       "      <td>West</td>\n",
       "      <td>2</td>\n",
       "      <td>B</td>\n",
       "    </tr>\n",
       "    <tr>\n",
       "      <td>33290</td>\n",
       "      <td>33290</td>\n",
       "      <td>N</td>\n",
       "      <td>F</td>\n",
       "      <td>3. Bach</td>\n",
       "      <td>836030</td>\n",
       "      <td>7_&gt;65</td>\n",
       "      <td>Y</td>\n",
       "      <td>B</td>\n",
       "      <td>Married</td>\n",
       "      <td>N</td>\n",
       "      <td>Retired</td>\n",
       "      <td>2Med</td>\n",
       "      <td>Owner</td>\n",
       "      <td>Northeast</td>\n",
       "      <td>1</td>\n",
       "      <td>J</td>\n",
       "    </tr>\n",
       "  </tbody>\n",
       "</table>\n",
       "<p>33291 rows × 16 columns</p>\n",
       "</div>"
      ],
      "text/plain": [
       "       index flag gender        education  house_val     age online  \\\n",
       "0          0    N      F          3. Bach     213171   7_>65      N   \n",
       "1          1    N      M  2. Some College     111147  2_<=25      Y   \n",
       "2          2    Y      M  2. Some College     354151  2_<=25      Y   \n",
       "3          3    Y      F          3. Bach     248694  6_<=65      Y   \n",
       "4          4    N      F          3. Bach     416925  5_<=55      Y   \n",
       "...      ...  ...    ...              ...        ...     ...    ...   \n",
       "33286  33286    Y      F          3. Bach          0   7_>65      Y   \n",
       "33287  33287    N      F            1. HS     213596  4_<=45      N   \n",
       "33288  33288    Y      M           0. <HS     134070  3_<=35      Y   \n",
       "33289  33289    N      M            1. HS     402210   7_>65      Y   \n",
       "33290  33290    N      F          3. Bach     836030   7_>65      Y   \n",
       "\n",
       "      customer_psy  marriage     child     occupation mortgage house_owner  \\\n",
       "0                E  0.804335  0.574637   Professional     1Low       Owner   \n",
       "1                C  0.804335         Y   Professional     1Low       Owner   \n",
       "2                B    Single  0.574637  Sales/Service     1Low    0.798187   \n",
       "3                B   Married         N   Professional     2Med       Owner   \n",
       "4                C   Married         Y   Professional     1Low       Owner   \n",
       "...            ...       ...       ...            ...      ...         ...   \n",
       "33286            C  0.804335  0.574637        Retired     1Low    0.798187   \n",
       "33287            I   Married  0.574637    Blue Collar     1Low       Owner   \n",
       "33288            F   Married  0.574637  Sales/Service     1Low       Owner   \n",
       "33289            E  0.804335         Y  Sales/Service     1Low    0.798187   \n",
       "33290            B   Married         N        Retired     2Med       Owner   \n",
       "\n",
       "          region  car_prob fam_income  \n",
       "0      Northeast         3          G  \n",
       "1        Midwest         1          J  \n",
       "2           West         2          L  \n",
       "3           West         1          G  \n",
       "4          South         2          I  \n",
       "...          ...       ...        ...  \n",
       "33286      South         3          F  \n",
       "33287      South         1          D  \n",
       "33288    Midwest         4          E  \n",
       "33289       West         2          B  \n",
       "33290  Northeast         1          J  \n",
       "\n",
       "[33291 rows x 16 columns]"
      ]
     },
     "execution_count": 26,
     "metadata": {},
     "output_type": "execute_result"
    }
   ],
   "source": [
    "temp_df"
   ]
  },
  {
   "cell_type": "code",
   "execution_count": 27,
   "metadata": {},
   "outputs": [
    {
     "data": {
      "text/plain": [
       "index            int64\n",
       "flag            object\n",
       "gender          object\n",
       "education       object\n",
       "house_val        int64\n",
       "age             object\n",
       "online          object\n",
       "customer_psy    object\n",
       "marriage        object\n",
       "child           object\n",
       "occupation      object\n",
       "mortgage        object\n",
       "house_owner     object\n",
       "region          object\n",
       "car_prob         int64\n",
       "fam_income      object\n",
       "dtype: object"
      ]
     },
     "execution_count": 27,
     "metadata": {},
     "output_type": "execute_result"
    }
   ],
   "source": [
    "temp_df.dtypes"
   ]
  },
  {
   "cell_type": "code",
   "execution_count": 28,
   "metadata": {},
   "outputs": [
    {
     "data": {
      "text/plain": [
       "(33291, 16)"
      ]
     },
     "execution_count": 28,
     "metadata": {},
     "output_type": "execute_result"
    }
   ],
   "source": [
    "temp_df.shape"
   ]
  },
  {
   "cell_type": "markdown",
   "metadata": {},
   "source": [
    "برای اجرای مدل ها بر روی داده ها باید داده های غیر عددی به داده های عددی تبدیل شوند. مقادیر هر یک از ویژگی های گسسته را به عددی نسبت دادیم"
   ]
  },
  {
   "cell_type": "markdown",
   "metadata": {},
   "source": [
    "## Convert to Number"
   ]
  },
  {
   "cell_type": "code",
   "execution_count": 29,
   "metadata": {},
   "outputs": [],
   "source": [
    "main_df = main_df.drop('customer_psy', axis=1)\n",
    "temp_df = temp_df.drop('customer_psy', axis=1)\n",
    "\n",
    "dict_fam_income_label = {}\n",
    "for i, char in enumerate(sorted(temp_df['fam_income'].unique().tolist())):\n",
    "    dict_fam_income_label[char] = i + 1\n",
    "temp_df['fam_income'] = temp_df['fam_income'].apply(lambda value: dict_fam_income_label[value])\n",
    "\n",
    "temp_df['house_val'] = temp_df['house_val'].apply(lambda value: int(value))\n",
    "temp_df['car_prob'] = temp_df['car_prob'].apply(lambda value: int(value))\n",
    "temp_df['mortgage'] = temp_df['mortgage'].apply(lambda value: int(value[0]))\n",
    "temp_df['education'] = temp_df['education'].apply(lambda value: int(value[0]) + 1)\n",
    "temp_df['flag'] = temp_df['flag'].apply(lambda value: 1 if value == 'Y' else 0)\n",
    "temp_df['online'] = temp_df['online'].apply(lambda value: 1 if value == 'Y' else 0)\n",
    "temp_df['age'] = temp_df['age'].apply(lambda value: value[0:1])\n",
    "\n",
    "temp_df['gender'] = temp_df['gender'].apply(lambda value: 1 if value == 'M' else 0 if value == 'F' else value)\n",
    "temp_df['marriage'] = temp_df['marriage'].apply(lambda value: 1 if value == 'Married' else 0 if value == 'Single' else value)\n",
    "temp_df['child'] = temp_df['child'].apply(lambda value: 1 if value == 'Y' else 0 if value == 'N' else value)\n",
    "temp_df['house_owner'] = temp_df['house_owner'].apply(lambda value: 1 if value == 'Owner' else 0 if value == 'Renter' else value)\n"
   ]
  },
  {
   "cell_type": "markdown",
   "metadata": {},
   "source": [
    "هر یک از مقادیر یکتای ویژگی های چند مقداری زیر را با روشی که در ادامه قابل مشاهده است به یک ویژگی باینری جدید تبدیل می کنیم"
   ]
  },
  {
   "cell_type": "markdown",
   "metadata": {},
   "source": [
    "### Considering 'occupation', 'region', 'education' and 'age' attribiutes as dummy features:"
   ]
  },
  {
   "cell_type": "code",
   "execution_count": 30,
   "metadata": {},
   "outputs": [],
   "source": [
    "def apply_dummy(df, cat, drop_first):\n",
    "    return pd.concat([df, pd.get_dummies(df[cat], prefix=cat, drop_first=drop_first)], axis=1).drop(cat, axis=1)\n",
    "\n",
    "dummies = ['occupation', 'region', 'age', 'education']\n",
    "for cat in dummies:\n",
    "    temp_df = apply_dummy(temp_df, cat, False)\n",
    "    main_df = apply_dummy(main_df, cat, False)"
   ]
  },
  {
   "cell_type": "code",
   "execution_count": 31,
   "metadata": {},
   "outputs": [
    {
     "data": {
      "text/plain": [
       "index                         int64\n",
       "flag                          int64\n",
       "gender                        int64\n",
       "house_val                     int64\n",
       "online                        int64\n",
       "marriage                    float64\n",
       "child                       float64\n",
       "mortgage                      int64\n",
       "house_owner                 float64\n",
       "car_prob                      int64\n",
       "fam_income                    int64\n",
       "occupation_Blue Collar        uint8\n",
       "occupation_Farm               uint8\n",
       "occupation_Others             uint8\n",
       "occupation_Professional       uint8\n",
       "occupation_Retired            uint8\n",
       "occupation_Sales/Service      uint8\n",
       "region_Midwest                uint8\n",
       "region_Northeast              uint8\n",
       "region_Rest                   uint8\n",
       "region_South                  uint8\n",
       "region_West                   uint8\n",
       "age_2                         uint8\n",
       "age_3                         uint8\n",
       "age_4                         uint8\n",
       "age_5                         uint8\n",
       "age_6                         uint8\n",
       "age_7                         uint8\n",
       "education_1                   uint8\n",
       "education_2                   uint8\n",
       "education_3                   uint8\n",
       "education_4                   uint8\n",
       "education_5                   uint8\n",
       "dtype: object"
      ]
     },
     "execution_count": 31,
     "metadata": {},
     "output_type": "execute_result"
    }
   ],
   "source": [
    "temp_df.dtypes"
   ]
  },
  {
   "cell_type": "code",
   "execution_count": 32,
   "metadata": {},
   "outputs": [
    {
     "data": {
      "text/plain": [
       "(33291, 33)"
      ]
     },
     "execution_count": 32,
     "metadata": {},
     "output_type": "execute_result"
    }
   ],
   "source": [
    "temp_df.shape"
   ]
  },
  {
   "cell_type": "markdown",
   "metadata": {},
   "source": [
    "## Remove House Value Outliers\n"
   ]
  },
  {
   "cell_type": "code",
   "execution_count": 33,
   "metadata": {},
   "outputs": [],
   "source": [
    "def remove_outlier(df_in, col_name):\n",
    "    q1 = df_in[col_name].quantile(0.1)\n",
    "    q3 = df_in[col_name].quantile(0.9)\n",
    "    iqr = q3-q1\n",
    "    fence_low  = q1-1.5*iqr\n",
    "    fence_high = q3+1.5*iqr\n",
    "    df_out = df_in.loc[(df_in[col_name] > fence_low) & (df_in[col_name] < fence_high)]\n",
    "    return df_out\n",
    "\n",
    "temp_df = temp_df.drop(\"index\",axis=1)\n",
    "temp_df = remove_outlier(temp_df, 'house_val')\n",
    "temp_df.reset_index(drop=True, inplace=True)\n",
    "temp_df = temp_df.reset_index()\n",
    "\n",
    "main_df = main_df.drop(\"index\",axis=1)\n",
    "main_df = remove_outlier(main_df, 'house_val')\n",
    "main_df.reset_index(drop=True, inplace=True)\n",
    "main_df = main_df.reset_index()"
   ]
  },
  {
   "cell_type": "code",
   "execution_count": 34,
   "metadata": {},
   "outputs": [
    {
     "data": {
      "text/html": [
       "<div>\n",
       "<style scoped>\n",
       "    .dataframe tbody tr th:only-of-type {\n",
       "        vertical-align: middle;\n",
       "    }\n",
       "\n",
       "    .dataframe tbody tr th {\n",
       "        vertical-align: top;\n",
       "    }\n",
       "\n",
       "    .dataframe thead th {\n",
       "        text-align: right;\n",
       "    }\n",
       "</style>\n",
       "<table border=\"1\" class=\"dataframe\">\n",
       "  <thead>\n",
       "    <tr style=\"text-align: right;\">\n",
       "      <th></th>\n",
       "      <th>index</th>\n",
       "      <th>flag</th>\n",
       "      <th>gender</th>\n",
       "      <th>house_val</th>\n",
       "      <th>online</th>\n",
       "      <th>marriage</th>\n",
       "      <th>child</th>\n",
       "      <th>mortgage</th>\n",
       "      <th>house_owner</th>\n",
       "      <th>car_prob</th>\n",
       "      <th>...</th>\n",
       "      <th>age_3</th>\n",
       "      <th>age_4</th>\n",
       "      <th>age_5</th>\n",
       "      <th>age_6</th>\n",
       "      <th>age_7</th>\n",
       "      <th>education_1</th>\n",
       "      <th>education_2</th>\n",
       "      <th>education_3</th>\n",
       "      <th>education_4</th>\n",
       "      <th>education_5</th>\n",
       "    </tr>\n",
       "  </thead>\n",
       "  <tbody>\n",
       "    <tr>\n",
       "      <td>0</td>\n",
       "      <td>0</td>\n",
       "      <td>0</td>\n",
       "      <td>0</td>\n",
       "      <td>213171</td>\n",
       "      <td>0</td>\n",
       "      <td>0.804335</td>\n",
       "      <td>0.574637</td>\n",
       "      <td>1</td>\n",
       "      <td>1.000000</td>\n",
       "      <td>3</td>\n",
       "      <td>...</td>\n",
       "      <td>0</td>\n",
       "      <td>0</td>\n",
       "      <td>0</td>\n",
       "      <td>0</td>\n",
       "      <td>1</td>\n",
       "      <td>0</td>\n",
       "      <td>0</td>\n",
       "      <td>0</td>\n",
       "      <td>1</td>\n",
       "      <td>0</td>\n",
       "    </tr>\n",
       "    <tr>\n",
       "      <td>1</td>\n",
       "      <td>1</td>\n",
       "      <td>0</td>\n",
       "      <td>1</td>\n",
       "      <td>111147</td>\n",
       "      <td>1</td>\n",
       "      <td>0.804335</td>\n",
       "      <td>1.000000</td>\n",
       "      <td>1</td>\n",
       "      <td>1.000000</td>\n",
       "      <td>1</td>\n",
       "      <td>...</td>\n",
       "      <td>0</td>\n",
       "      <td>0</td>\n",
       "      <td>0</td>\n",
       "      <td>0</td>\n",
       "      <td>0</td>\n",
       "      <td>0</td>\n",
       "      <td>0</td>\n",
       "      <td>1</td>\n",
       "      <td>0</td>\n",
       "      <td>0</td>\n",
       "    </tr>\n",
       "    <tr>\n",
       "      <td>2</td>\n",
       "      <td>2</td>\n",
       "      <td>1</td>\n",
       "      <td>1</td>\n",
       "      <td>354151</td>\n",
       "      <td>1</td>\n",
       "      <td>0.000000</td>\n",
       "      <td>0.574637</td>\n",
       "      <td>1</td>\n",
       "      <td>0.798187</td>\n",
       "      <td>2</td>\n",
       "      <td>...</td>\n",
       "      <td>0</td>\n",
       "      <td>0</td>\n",
       "      <td>0</td>\n",
       "      <td>0</td>\n",
       "      <td>0</td>\n",
       "      <td>0</td>\n",
       "      <td>0</td>\n",
       "      <td>1</td>\n",
       "      <td>0</td>\n",
       "      <td>0</td>\n",
       "    </tr>\n",
       "    <tr>\n",
       "      <td>3</td>\n",
       "      <td>3</td>\n",
       "      <td>1</td>\n",
       "      <td>0</td>\n",
       "      <td>248694</td>\n",
       "      <td>1</td>\n",
       "      <td>1.000000</td>\n",
       "      <td>0.000000</td>\n",
       "      <td>2</td>\n",
       "      <td>1.000000</td>\n",
       "      <td>1</td>\n",
       "      <td>...</td>\n",
       "      <td>0</td>\n",
       "      <td>0</td>\n",
       "      <td>0</td>\n",
       "      <td>1</td>\n",
       "      <td>0</td>\n",
       "      <td>0</td>\n",
       "      <td>0</td>\n",
       "      <td>0</td>\n",
       "      <td>1</td>\n",
       "      <td>0</td>\n",
       "    </tr>\n",
       "    <tr>\n",
       "      <td>4</td>\n",
       "      <td>4</td>\n",
       "      <td>0</td>\n",
       "      <td>0</td>\n",
       "      <td>416925</td>\n",
       "      <td>1</td>\n",
       "      <td>1.000000</td>\n",
       "      <td>1.000000</td>\n",
       "      <td>1</td>\n",
       "      <td>1.000000</td>\n",
       "      <td>2</td>\n",
       "      <td>...</td>\n",
       "      <td>0</td>\n",
       "      <td>0</td>\n",
       "      <td>1</td>\n",
       "      <td>0</td>\n",
       "      <td>0</td>\n",
       "      <td>0</td>\n",
       "      <td>0</td>\n",
       "      <td>0</td>\n",
       "      <td>1</td>\n",
       "      <td>0</td>\n",
       "    </tr>\n",
       "    <tr>\n",
       "      <td>...</td>\n",
       "      <td>...</td>\n",
       "      <td>...</td>\n",
       "      <td>...</td>\n",
       "      <td>...</td>\n",
       "      <td>...</td>\n",
       "      <td>...</td>\n",
       "      <td>...</td>\n",
       "      <td>...</td>\n",
       "      <td>...</td>\n",
       "      <td>...</td>\n",
       "      <td>...</td>\n",
       "      <td>...</td>\n",
       "      <td>...</td>\n",
       "      <td>...</td>\n",
       "      <td>...</td>\n",
       "      <td>...</td>\n",
       "      <td>...</td>\n",
       "      <td>...</td>\n",
       "      <td>...</td>\n",
       "      <td>...</td>\n",
       "      <td>...</td>\n",
       "    </tr>\n",
       "    <tr>\n",
       "      <td>32860</td>\n",
       "      <td>32860</td>\n",
       "      <td>1</td>\n",
       "      <td>0</td>\n",
       "      <td>0</td>\n",
       "      <td>1</td>\n",
       "      <td>0.804335</td>\n",
       "      <td>0.574637</td>\n",
       "      <td>1</td>\n",
       "      <td>0.798187</td>\n",
       "      <td>3</td>\n",
       "      <td>...</td>\n",
       "      <td>0</td>\n",
       "      <td>0</td>\n",
       "      <td>0</td>\n",
       "      <td>0</td>\n",
       "      <td>1</td>\n",
       "      <td>0</td>\n",
       "      <td>0</td>\n",
       "      <td>0</td>\n",
       "      <td>1</td>\n",
       "      <td>0</td>\n",
       "    </tr>\n",
       "    <tr>\n",
       "      <td>32861</td>\n",
       "      <td>32861</td>\n",
       "      <td>0</td>\n",
       "      <td>0</td>\n",
       "      <td>213596</td>\n",
       "      <td>0</td>\n",
       "      <td>1.000000</td>\n",
       "      <td>0.574637</td>\n",
       "      <td>1</td>\n",
       "      <td>1.000000</td>\n",
       "      <td>1</td>\n",
       "      <td>...</td>\n",
       "      <td>0</td>\n",
       "      <td>1</td>\n",
       "      <td>0</td>\n",
       "      <td>0</td>\n",
       "      <td>0</td>\n",
       "      <td>0</td>\n",
       "      <td>1</td>\n",
       "      <td>0</td>\n",
       "      <td>0</td>\n",
       "      <td>0</td>\n",
       "    </tr>\n",
       "    <tr>\n",
       "      <td>32862</td>\n",
       "      <td>32862</td>\n",
       "      <td>1</td>\n",
       "      <td>1</td>\n",
       "      <td>134070</td>\n",
       "      <td>1</td>\n",
       "      <td>1.000000</td>\n",
       "      <td>0.574637</td>\n",
       "      <td>1</td>\n",
       "      <td>1.000000</td>\n",
       "      <td>4</td>\n",
       "      <td>...</td>\n",
       "      <td>1</td>\n",
       "      <td>0</td>\n",
       "      <td>0</td>\n",
       "      <td>0</td>\n",
       "      <td>0</td>\n",
       "      <td>1</td>\n",
       "      <td>0</td>\n",
       "      <td>0</td>\n",
       "      <td>0</td>\n",
       "      <td>0</td>\n",
       "    </tr>\n",
       "    <tr>\n",
       "      <td>32863</td>\n",
       "      <td>32863</td>\n",
       "      <td>0</td>\n",
       "      <td>1</td>\n",
       "      <td>402210</td>\n",
       "      <td>1</td>\n",
       "      <td>0.804335</td>\n",
       "      <td>1.000000</td>\n",
       "      <td>1</td>\n",
       "      <td>0.798187</td>\n",
       "      <td>2</td>\n",
       "      <td>...</td>\n",
       "      <td>0</td>\n",
       "      <td>0</td>\n",
       "      <td>0</td>\n",
       "      <td>0</td>\n",
       "      <td>1</td>\n",
       "      <td>0</td>\n",
       "      <td>1</td>\n",
       "      <td>0</td>\n",
       "      <td>0</td>\n",
       "      <td>0</td>\n",
       "    </tr>\n",
       "    <tr>\n",
       "      <td>32864</td>\n",
       "      <td>32864</td>\n",
       "      <td>0</td>\n",
       "      <td>0</td>\n",
       "      <td>836030</td>\n",
       "      <td>1</td>\n",
       "      <td>1.000000</td>\n",
       "      <td>0.000000</td>\n",
       "      <td>2</td>\n",
       "      <td>1.000000</td>\n",
       "      <td>1</td>\n",
       "      <td>...</td>\n",
       "      <td>0</td>\n",
       "      <td>0</td>\n",
       "      <td>0</td>\n",
       "      <td>0</td>\n",
       "      <td>1</td>\n",
       "      <td>0</td>\n",
       "      <td>0</td>\n",
       "      <td>0</td>\n",
       "      <td>1</td>\n",
       "      <td>0</td>\n",
       "    </tr>\n",
       "  </tbody>\n",
       "</table>\n",
       "<p>32865 rows × 33 columns</p>\n",
       "</div>"
      ],
      "text/plain": [
       "       index  flag  gender  house_val  online  marriage     child  mortgage  \\\n",
       "0          0     0       0     213171       0  0.804335  0.574637         1   \n",
       "1          1     0       1     111147       1  0.804335  1.000000         1   \n",
       "2          2     1       1     354151       1  0.000000  0.574637         1   \n",
       "3          3     1       0     248694       1  1.000000  0.000000         2   \n",
       "4          4     0       0     416925       1  1.000000  1.000000         1   \n",
       "...      ...   ...     ...        ...     ...       ...       ...       ...   \n",
       "32860  32860     1       0          0       1  0.804335  0.574637         1   \n",
       "32861  32861     0       0     213596       0  1.000000  0.574637         1   \n",
       "32862  32862     1       1     134070       1  1.000000  0.574637         1   \n",
       "32863  32863     0       1     402210       1  0.804335  1.000000         1   \n",
       "32864  32864     0       0     836030       1  1.000000  0.000000         2   \n",
       "\n",
       "       house_owner  car_prob  ...  age_3  age_4  age_5  age_6  age_7  \\\n",
       "0         1.000000         3  ...      0      0      0      0      1   \n",
       "1         1.000000         1  ...      0      0      0      0      0   \n",
       "2         0.798187         2  ...      0      0      0      0      0   \n",
       "3         1.000000         1  ...      0      0      0      1      0   \n",
       "4         1.000000         2  ...      0      0      1      0      0   \n",
       "...            ...       ...  ...    ...    ...    ...    ...    ...   \n",
       "32860     0.798187         3  ...      0      0      0      0      1   \n",
       "32861     1.000000         1  ...      0      1      0      0      0   \n",
       "32862     1.000000         4  ...      1      0      0      0      0   \n",
       "32863     0.798187         2  ...      0      0      0      0      1   \n",
       "32864     1.000000         1  ...      0      0      0      0      1   \n",
       "\n",
       "       education_1  education_2  education_3  education_4  education_5  \n",
       "0                0            0            0            1            0  \n",
       "1                0            0            1            0            0  \n",
       "2                0            0            1            0            0  \n",
       "3                0            0            0            1            0  \n",
       "4                0            0            0            1            0  \n",
       "...            ...          ...          ...          ...          ...  \n",
       "32860            0            0            0            1            0  \n",
       "32861            0            1            0            0            0  \n",
       "32862            1            0            0            0            0  \n",
       "32863            0            1            0            0            0  \n",
       "32864            0            0            0            1            0  \n",
       "\n",
       "[32865 rows x 33 columns]"
      ]
     },
     "execution_count": 34,
     "metadata": {},
     "output_type": "execute_result"
    }
   ],
   "source": [
    "temp_df"
   ]
  },
  {
   "cell_type": "code",
   "execution_count": 35,
   "metadata": {},
   "outputs": [
    {
     "data": {
      "text/plain": [
       "(32865, 33)"
      ]
     },
     "execution_count": 35,
     "metadata": {},
     "output_type": "execute_result"
    }
   ],
   "source": [
    "main_df.shape"
   ]
  },
  {
   "cell_type": "code",
   "execution_count": 36,
   "metadata": {},
   "outputs": [
    {
     "name": "stdout",
     "output_type": "stream",
     "text": [
      "index [    0     1     2 ... 32862 32863 32864]\n",
      "flag [0 1]\n",
      "gender [0 1]\n",
      "house_val [213171 111147 354151 ... 509432 603554 213596]\n",
      "online [0 1]\n",
      "marriage [0.80433527 0.         1.        ]\n",
      "child [0.5746371 1.        0.       ]\n",
      "mortgage [1 2 3]\n",
      "house_owner [1.         0.79818693 0.        ]\n",
      "car_prob [3 1 2 5 6 8 4 9 7 0]\n",
      "fam_income [ 7 10 12  9  4  5  3  1  6  2 11  8 13]\n",
      "occupation_Blue Collar [0 1]\n",
      "occupation_Farm [0 1]\n",
      "occupation_Others [0 1]\n",
      "occupation_Professional [1 0]\n",
      "occupation_Retired [0 1]\n",
      "occupation_Sales/Service [0 1]\n",
      "region_Midwest [0 1]\n",
      "region_Northeast [1 0]\n",
      "region_Rest [0 1]\n",
      "region_South [0 1]\n",
      "region_West [0 1]\n",
      "age_2 [0 1]\n",
      "age_3 [0 1]\n",
      "age_4 [0 1]\n",
      "age_5 [0 1]\n",
      "age_6 [0 1]\n",
      "age_7 [1 0]\n",
      "education_1 [0 1]\n",
      "education_2 [0 1]\n",
      "education_3 [0 1]\n",
      "education_4 [1 0]\n",
      "education_5 [0 1]\n"
     ]
    }
   ],
   "source": [
    "for cat in temp_df.columns:\n",
    "    print(cat, temp_df[cat].unique())"
   ]
  },
  {
   "cell_type": "code",
   "execution_count": 37,
   "metadata": {},
   "outputs": [
    {
     "data": {
      "text/plain": [
       "index                         int64\n",
       "flag                          int64\n",
       "gender                        int64\n",
       "house_val                     int64\n",
       "online                        int64\n",
       "marriage                    float64\n",
       "child                       float64\n",
       "mortgage                      int64\n",
       "house_owner                 float64\n",
       "car_prob                      int64\n",
       "fam_income                    int64\n",
       "occupation_Blue Collar        uint8\n",
       "occupation_Farm               uint8\n",
       "occupation_Others             uint8\n",
       "occupation_Professional       uint8\n",
       "occupation_Retired            uint8\n",
       "occupation_Sales/Service      uint8\n",
       "region_Midwest                uint8\n",
       "region_Northeast              uint8\n",
       "region_Rest                   uint8\n",
       "region_South                  uint8\n",
       "region_West                   uint8\n",
       "age_2                         uint8\n",
       "age_3                         uint8\n",
       "age_4                         uint8\n",
       "age_5                         uint8\n",
       "age_6                         uint8\n",
       "age_7                         uint8\n",
       "education_1                   uint8\n",
       "education_2                   uint8\n",
       "education_3                   uint8\n",
       "education_4                   uint8\n",
       "education_5                   uint8\n",
       "dtype: object"
      ]
     },
     "execution_count": 37,
     "metadata": {},
     "output_type": "execute_result"
    }
   ],
   "source": [
    "temp_df.dtypes"
   ]
  },
  {
   "cell_type": "markdown",
   "metadata": {},
   "source": [
    "### Normalize some attributes\n"
   ]
  },
  {
   "cell_type": "code",
   "execution_count": 38,
   "metadata": {},
   "outputs": [],
   "source": [
    "def normalize(df, category, scaler):\n",
    "    feature_value = df[[category]].values\n",
    "    feature_value_scaled = scaler.fit_transform(feature_value)\n",
    "    df[category] = pd.DataFrame(feature_value_scaled)\n",
    "    return df  "
   ]
  },
  {
   "cell_type": "code",
   "execution_count": 39,
   "metadata": {},
   "outputs": [],
   "source": [
    "min_max_scaler = preprocessing.MinMaxScaler()\n",
    "non_normal_values = ['house_val','fam_income','mortgage', 'car_prob']\n",
    "for cat in non_normal_values:\n",
    "    temp_df = normalize(temp_df, cat, min_max_scaler)"
   ]
  },
  {
   "cell_type": "code",
   "execution_count": 40,
   "metadata": {},
   "outputs": [
    {
     "data": {
      "text/html": [
       "<div>\n",
       "<style scoped>\n",
       "    .dataframe tbody tr th:only-of-type {\n",
       "        vertical-align: middle;\n",
       "    }\n",
       "\n",
       "    .dataframe tbody tr th {\n",
       "        vertical-align: top;\n",
       "    }\n",
       "\n",
       "    .dataframe thead th {\n",
       "        text-align: right;\n",
       "    }\n",
       "</style>\n",
       "<table border=\"1\" class=\"dataframe\">\n",
       "  <thead>\n",
       "    <tr style=\"text-align: right;\">\n",
       "      <th></th>\n",
       "      <th>index</th>\n",
       "      <th>flag</th>\n",
       "      <th>gender</th>\n",
       "      <th>house_val</th>\n",
       "      <th>online</th>\n",
       "      <th>marriage</th>\n",
       "      <th>child</th>\n",
       "      <th>mortgage</th>\n",
       "      <th>house_owner</th>\n",
       "      <th>car_prob</th>\n",
       "      <th>...</th>\n",
       "      <th>age_3</th>\n",
       "      <th>age_4</th>\n",
       "      <th>age_5</th>\n",
       "      <th>age_6</th>\n",
       "      <th>age_7</th>\n",
       "      <th>education_1</th>\n",
       "      <th>education_2</th>\n",
       "      <th>education_3</th>\n",
       "      <th>education_4</th>\n",
       "      <th>education_5</th>\n",
       "    </tr>\n",
       "  </thead>\n",
       "  <tbody>\n",
       "    <tr>\n",
       "      <td>0</td>\n",
       "      <td>0</td>\n",
       "      <td>0</td>\n",
       "      <td>0</td>\n",
       "      <td>0.126141</td>\n",
       "      <td>0</td>\n",
       "      <td>0.804335</td>\n",
       "      <td>0.574637</td>\n",
       "      <td>0.0</td>\n",
       "      <td>1.000000</td>\n",
       "      <td>0.333333</td>\n",
       "      <td>...</td>\n",
       "      <td>0</td>\n",
       "      <td>0</td>\n",
       "      <td>0</td>\n",
       "      <td>0</td>\n",
       "      <td>1</td>\n",
       "      <td>0</td>\n",
       "      <td>0</td>\n",
       "      <td>0</td>\n",
       "      <td>1</td>\n",
       "      <td>0</td>\n",
       "    </tr>\n",
       "    <tr>\n",
       "      <td>1</td>\n",
       "      <td>1</td>\n",
       "      <td>0</td>\n",
       "      <td>1</td>\n",
       "      <td>0.065770</td>\n",
       "      <td>1</td>\n",
       "      <td>0.804335</td>\n",
       "      <td>1.000000</td>\n",
       "      <td>0.0</td>\n",
       "      <td>1.000000</td>\n",
       "      <td>0.111111</td>\n",
       "      <td>...</td>\n",
       "      <td>0</td>\n",
       "      <td>0</td>\n",
       "      <td>0</td>\n",
       "      <td>0</td>\n",
       "      <td>0</td>\n",
       "      <td>0</td>\n",
       "      <td>0</td>\n",
       "      <td>1</td>\n",
       "      <td>0</td>\n",
       "      <td>0</td>\n",
       "    </tr>\n",
       "    <tr>\n",
       "      <td>2</td>\n",
       "      <td>2</td>\n",
       "      <td>1</td>\n",
       "      <td>1</td>\n",
       "      <td>0.209565</td>\n",
       "      <td>1</td>\n",
       "      <td>0.000000</td>\n",
       "      <td>0.574637</td>\n",
       "      <td>0.0</td>\n",
       "      <td>0.798187</td>\n",
       "      <td>0.222222</td>\n",
       "      <td>...</td>\n",
       "      <td>0</td>\n",
       "      <td>0</td>\n",
       "      <td>0</td>\n",
       "      <td>0</td>\n",
       "      <td>0</td>\n",
       "      <td>0</td>\n",
       "      <td>0</td>\n",
       "      <td>1</td>\n",
       "      <td>0</td>\n",
       "      <td>0</td>\n",
       "    </tr>\n",
       "    <tr>\n",
       "      <td>3</td>\n",
       "      <td>3</td>\n",
       "      <td>1</td>\n",
       "      <td>0</td>\n",
       "      <td>0.147162</td>\n",
       "      <td>1</td>\n",
       "      <td>1.000000</td>\n",
       "      <td>0.000000</td>\n",
       "      <td>0.5</td>\n",
       "      <td>1.000000</td>\n",
       "      <td>0.111111</td>\n",
       "      <td>...</td>\n",
       "      <td>0</td>\n",
       "      <td>0</td>\n",
       "      <td>0</td>\n",
       "      <td>1</td>\n",
       "      <td>0</td>\n",
       "      <td>0</td>\n",
       "      <td>0</td>\n",
       "      <td>0</td>\n",
       "      <td>1</td>\n",
       "      <td>0</td>\n",
       "    </tr>\n",
       "    <tr>\n",
       "      <td>4</td>\n",
       "      <td>4</td>\n",
       "      <td>0</td>\n",
       "      <td>0</td>\n",
       "      <td>0.246711</td>\n",
       "      <td>1</td>\n",
       "      <td>1.000000</td>\n",
       "      <td>1.000000</td>\n",
       "      <td>0.0</td>\n",
       "      <td>1.000000</td>\n",
       "      <td>0.222222</td>\n",
       "      <td>...</td>\n",
       "      <td>0</td>\n",
       "      <td>0</td>\n",
       "      <td>1</td>\n",
       "      <td>0</td>\n",
       "      <td>0</td>\n",
       "      <td>0</td>\n",
       "      <td>0</td>\n",
       "      <td>0</td>\n",
       "      <td>1</td>\n",
       "      <td>0</td>\n",
       "    </tr>\n",
       "    <tr>\n",
       "      <td>...</td>\n",
       "      <td>...</td>\n",
       "      <td>...</td>\n",
       "      <td>...</td>\n",
       "      <td>...</td>\n",
       "      <td>...</td>\n",
       "      <td>...</td>\n",
       "      <td>...</td>\n",
       "      <td>...</td>\n",
       "      <td>...</td>\n",
       "      <td>...</td>\n",
       "      <td>...</td>\n",
       "      <td>...</td>\n",
       "      <td>...</td>\n",
       "      <td>...</td>\n",
       "      <td>...</td>\n",
       "      <td>...</td>\n",
       "      <td>...</td>\n",
       "      <td>...</td>\n",
       "      <td>...</td>\n",
       "      <td>...</td>\n",
       "      <td>...</td>\n",
       "    </tr>\n",
       "    <tr>\n",
       "      <td>32860</td>\n",
       "      <td>32860</td>\n",
       "      <td>1</td>\n",
       "      <td>0</td>\n",
       "      <td>0.000000</td>\n",
       "      <td>1</td>\n",
       "      <td>0.804335</td>\n",
       "      <td>0.574637</td>\n",
       "      <td>0.0</td>\n",
       "      <td>0.798187</td>\n",
       "      <td>0.333333</td>\n",
       "      <td>...</td>\n",
       "      <td>0</td>\n",
       "      <td>0</td>\n",
       "      <td>0</td>\n",
       "      <td>0</td>\n",
       "      <td>1</td>\n",
       "      <td>0</td>\n",
       "      <td>0</td>\n",
       "      <td>0</td>\n",
       "      <td>1</td>\n",
       "      <td>0</td>\n",
       "    </tr>\n",
       "    <tr>\n",
       "      <td>32861</td>\n",
       "      <td>32861</td>\n",
       "      <td>0</td>\n",
       "      <td>0</td>\n",
       "      <td>0.126393</td>\n",
       "      <td>0</td>\n",
       "      <td>1.000000</td>\n",
       "      <td>0.574637</td>\n",
       "      <td>0.0</td>\n",
       "      <td>1.000000</td>\n",
       "      <td>0.111111</td>\n",
       "      <td>...</td>\n",
       "      <td>0</td>\n",
       "      <td>1</td>\n",
       "      <td>0</td>\n",
       "      <td>0</td>\n",
       "      <td>0</td>\n",
       "      <td>0</td>\n",
       "      <td>1</td>\n",
       "      <td>0</td>\n",
       "      <td>0</td>\n",
       "      <td>0</td>\n",
       "    </tr>\n",
       "    <tr>\n",
       "      <td>32862</td>\n",
       "      <td>32862</td>\n",
       "      <td>1</td>\n",
       "      <td>1</td>\n",
       "      <td>0.079334</td>\n",
       "      <td>1</td>\n",
       "      <td>1.000000</td>\n",
       "      <td>0.574637</td>\n",
       "      <td>0.0</td>\n",
       "      <td>1.000000</td>\n",
       "      <td>0.444444</td>\n",
       "      <td>...</td>\n",
       "      <td>1</td>\n",
       "      <td>0</td>\n",
       "      <td>0</td>\n",
       "      <td>0</td>\n",
       "      <td>0</td>\n",
       "      <td>1</td>\n",
       "      <td>0</td>\n",
       "      <td>0</td>\n",
       "      <td>0</td>\n",
       "      <td>0</td>\n",
       "    </tr>\n",
       "    <tr>\n",
       "      <td>32863</td>\n",
       "      <td>32863</td>\n",
       "      <td>0</td>\n",
       "      <td>1</td>\n",
       "      <td>0.238003</td>\n",
       "      <td>1</td>\n",
       "      <td>0.804335</td>\n",
       "      <td>1.000000</td>\n",
       "      <td>0.0</td>\n",
       "      <td>0.798187</td>\n",
       "      <td>0.222222</td>\n",
       "      <td>...</td>\n",
       "      <td>0</td>\n",
       "      <td>0</td>\n",
       "      <td>0</td>\n",
       "      <td>0</td>\n",
       "      <td>1</td>\n",
       "      <td>0</td>\n",
       "      <td>1</td>\n",
       "      <td>0</td>\n",
       "      <td>0</td>\n",
       "      <td>0</td>\n",
       "    </tr>\n",
       "    <tr>\n",
       "      <td>32864</td>\n",
       "      <td>32864</td>\n",
       "      <td>0</td>\n",
       "      <td>0</td>\n",
       "      <td>0.494711</td>\n",
       "      <td>1</td>\n",
       "      <td>1.000000</td>\n",
       "      <td>0.000000</td>\n",
       "      <td>0.5</td>\n",
       "      <td>1.000000</td>\n",
       "      <td>0.111111</td>\n",
       "      <td>...</td>\n",
       "      <td>0</td>\n",
       "      <td>0</td>\n",
       "      <td>0</td>\n",
       "      <td>0</td>\n",
       "      <td>1</td>\n",
       "      <td>0</td>\n",
       "      <td>0</td>\n",
       "      <td>0</td>\n",
       "      <td>1</td>\n",
       "      <td>0</td>\n",
       "    </tr>\n",
       "  </tbody>\n",
       "</table>\n",
       "<p>32865 rows × 33 columns</p>\n",
       "</div>"
      ],
      "text/plain": [
       "       index  flag  gender  house_val  online  marriage     child  mortgage  \\\n",
       "0          0     0       0   0.126141       0  0.804335  0.574637       0.0   \n",
       "1          1     0       1   0.065770       1  0.804335  1.000000       0.0   \n",
       "2          2     1       1   0.209565       1  0.000000  0.574637       0.0   \n",
       "3          3     1       0   0.147162       1  1.000000  0.000000       0.5   \n",
       "4          4     0       0   0.246711       1  1.000000  1.000000       0.0   \n",
       "...      ...   ...     ...        ...     ...       ...       ...       ...   \n",
       "32860  32860     1       0   0.000000       1  0.804335  0.574637       0.0   \n",
       "32861  32861     0       0   0.126393       0  1.000000  0.574637       0.0   \n",
       "32862  32862     1       1   0.079334       1  1.000000  0.574637       0.0   \n",
       "32863  32863     0       1   0.238003       1  0.804335  1.000000       0.0   \n",
       "32864  32864     0       0   0.494711       1  1.000000  0.000000       0.5   \n",
       "\n",
       "       house_owner  car_prob  ...  age_3  age_4  age_5  age_6  age_7  \\\n",
       "0         1.000000  0.333333  ...      0      0      0      0      1   \n",
       "1         1.000000  0.111111  ...      0      0      0      0      0   \n",
       "2         0.798187  0.222222  ...      0      0      0      0      0   \n",
       "3         1.000000  0.111111  ...      0      0      0      1      0   \n",
       "4         1.000000  0.222222  ...      0      0      1      0      0   \n",
       "...            ...       ...  ...    ...    ...    ...    ...    ...   \n",
       "32860     0.798187  0.333333  ...      0      0      0      0      1   \n",
       "32861     1.000000  0.111111  ...      0      1      0      0      0   \n",
       "32862     1.000000  0.444444  ...      1      0      0      0      0   \n",
       "32863     0.798187  0.222222  ...      0      0      0      0      1   \n",
       "32864     1.000000  0.111111  ...      0      0      0      0      1   \n",
       "\n",
       "       education_1  education_2  education_3  education_4  education_5  \n",
       "0                0            0            0            1            0  \n",
       "1                0            0            1            0            0  \n",
       "2                0            0            1            0            0  \n",
       "3                0            0            0            1            0  \n",
       "4                0            0            0            1            0  \n",
       "...            ...          ...          ...          ...          ...  \n",
       "32860            0            0            0            1            0  \n",
       "32861            0            1            0            0            0  \n",
       "32862            1            0            0            0            0  \n",
       "32863            0            1            0            0            0  \n",
       "32864            0            0            0            1            0  \n",
       "\n",
       "[32865 rows x 33 columns]"
      ]
     },
     "execution_count": 40,
     "metadata": {},
     "output_type": "execute_result"
    }
   ],
   "source": [
    "temp_df"
   ]
  },
  {
   "cell_type": "code",
   "execution_count": 41,
   "metadata": {},
   "outputs": [
    {
     "name": "stdout",
     "output_type": "stream",
     "text": [
      "index [    0     1     2 ... 32862 32863 32864]\n",
      "flag [0 1]\n",
      "gender [0 1]\n",
      "house_val [0.12614146 0.06576995 0.20956474 ... 0.30145047 0.35714607 0.12639295]\n",
      "online [0 1]\n",
      "marriage [0.80433527 0.         1.        ]\n",
      "child [0.5746371 1.        0.       ]\n",
      "mortgage [0.  0.5 1. ]\n",
      "house_owner [1.         0.79818693 0.        ]\n",
      "car_prob [0.33333333 0.11111111 0.22222222 0.55555556 0.66666667 0.88888889\n",
      " 0.44444444 1.         0.77777778 0.        ]\n",
      "fam_income [0.5        0.75       0.91666667 0.66666667 0.25       0.33333333\n",
      " 0.16666667 0.         0.41666667 0.08333333 0.83333333 0.58333333\n",
      " 1.        ]\n",
      "occupation_Blue Collar [0 1]\n",
      "occupation_Farm [0 1]\n",
      "occupation_Others [0 1]\n",
      "occupation_Professional [1 0]\n",
      "occupation_Retired [0 1]\n",
      "occupation_Sales/Service [0 1]\n",
      "region_Midwest [0 1]\n",
      "region_Northeast [1 0]\n",
      "region_Rest [0 1]\n",
      "region_South [0 1]\n",
      "region_West [0 1]\n",
      "age_2 [0 1]\n",
      "age_3 [0 1]\n",
      "age_4 [0 1]\n",
      "age_5 [0 1]\n",
      "age_6 [0 1]\n",
      "age_7 [1 0]\n",
      "education_1 [0 1]\n",
      "education_2 [0 1]\n",
      "education_3 [0 1]\n",
      "education_4 [1 0]\n",
      "education_5 [0 1]\n"
     ]
    }
   ],
   "source": [
    "for cat in temp_df.columns:\n",
    "    print(cat, temp_df[cat].unique())"
   ]
  },
  {
   "cell_type": "markdown",
   "metadata": {},
   "source": [
    "### Train, Test split\n"
   ]
  },
  {
   "cell_type": "code",
   "execution_count": 42,
   "metadata": {},
   "outputs": [],
   "source": [
    "df= temp_df.drop(\"index\",1).copy()\n",
    "X = df.drop('flag', axis=1)\n",
    "y = df['flag']"
   ]
  },
  {
   "cell_type": "code",
   "execution_count": 43,
   "metadata": {},
   "outputs": [
    {
     "data": {
      "text/html": [
       "<div>\n",
       "<style scoped>\n",
       "    .dataframe tbody tr th:only-of-type {\n",
       "        vertical-align: middle;\n",
       "    }\n",
       "\n",
       "    .dataframe tbody tr th {\n",
       "        vertical-align: top;\n",
       "    }\n",
       "\n",
       "    .dataframe thead th {\n",
       "        text-align: right;\n",
       "    }\n",
       "</style>\n",
       "<table border=\"1\" class=\"dataframe\">\n",
       "  <thead>\n",
       "    <tr style=\"text-align: right;\">\n",
       "      <th></th>\n",
       "      <th>flag</th>\n",
       "      <th>gender</th>\n",
       "      <th>house_val</th>\n",
       "      <th>online</th>\n",
       "      <th>marriage</th>\n",
       "      <th>child</th>\n",
       "      <th>mortgage</th>\n",
       "      <th>house_owner</th>\n",
       "      <th>car_prob</th>\n",
       "      <th>fam_income</th>\n",
       "      <th>...</th>\n",
       "      <th>age_3</th>\n",
       "      <th>age_4</th>\n",
       "      <th>age_5</th>\n",
       "      <th>age_6</th>\n",
       "      <th>age_7</th>\n",
       "      <th>education_1</th>\n",
       "      <th>education_2</th>\n",
       "      <th>education_3</th>\n",
       "      <th>education_4</th>\n",
       "      <th>education_5</th>\n",
       "    </tr>\n",
       "  </thead>\n",
       "  <tbody>\n",
       "    <tr>\n",
       "      <td>0</td>\n",
       "      <td>0</td>\n",
       "      <td>0</td>\n",
       "      <td>0.126141</td>\n",
       "      <td>0</td>\n",
       "      <td>0.804335</td>\n",
       "      <td>0.574637</td>\n",
       "      <td>0.0</td>\n",
       "      <td>1.000000</td>\n",
       "      <td>0.333333</td>\n",
       "      <td>0.500000</td>\n",
       "      <td>...</td>\n",
       "      <td>0</td>\n",
       "      <td>0</td>\n",
       "      <td>0</td>\n",
       "      <td>0</td>\n",
       "      <td>1</td>\n",
       "      <td>0</td>\n",
       "      <td>0</td>\n",
       "      <td>0</td>\n",
       "      <td>1</td>\n",
       "      <td>0</td>\n",
       "    </tr>\n",
       "    <tr>\n",
       "      <td>1</td>\n",
       "      <td>0</td>\n",
       "      <td>1</td>\n",
       "      <td>0.065770</td>\n",
       "      <td>1</td>\n",
       "      <td>0.804335</td>\n",
       "      <td>1.000000</td>\n",
       "      <td>0.0</td>\n",
       "      <td>1.000000</td>\n",
       "      <td>0.111111</td>\n",
       "      <td>0.750000</td>\n",
       "      <td>...</td>\n",
       "      <td>0</td>\n",
       "      <td>0</td>\n",
       "      <td>0</td>\n",
       "      <td>0</td>\n",
       "      <td>0</td>\n",
       "      <td>0</td>\n",
       "      <td>0</td>\n",
       "      <td>1</td>\n",
       "      <td>0</td>\n",
       "      <td>0</td>\n",
       "    </tr>\n",
       "    <tr>\n",
       "      <td>2</td>\n",
       "      <td>1</td>\n",
       "      <td>1</td>\n",
       "      <td>0.209565</td>\n",
       "      <td>1</td>\n",
       "      <td>0.000000</td>\n",
       "      <td>0.574637</td>\n",
       "      <td>0.0</td>\n",
       "      <td>0.798187</td>\n",
       "      <td>0.222222</td>\n",
       "      <td>0.916667</td>\n",
       "      <td>...</td>\n",
       "      <td>0</td>\n",
       "      <td>0</td>\n",
       "      <td>0</td>\n",
       "      <td>0</td>\n",
       "      <td>0</td>\n",
       "      <td>0</td>\n",
       "      <td>0</td>\n",
       "      <td>1</td>\n",
       "      <td>0</td>\n",
       "      <td>0</td>\n",
       "    </tr>\n",
       "    <tr>\n",
       "      <td>3</td>\n",
       "      <td>1</td>\n",
       "      <td>0</td>\n",
       "      <td>0.147162</td>\n",
       "      <td>1</td>\n",
       "      <td>1.000000</td>\n",
       "      <td>0.000000</td>\n",
       "      <td>0.5</td>\n",
       "      <td>1.000000</td>\n",
       "      <td>0.111111</td>\n",
       "      <td>0.500000</td>\n",
       "      <td>...</td>\n",
       "      <td>0</td>\n",
       "      <td>0</td>\n",
       "      <td>0</td>\n",
       "      <td>1</td>\n",
       "      <td>0</td>\n",
       "      <td>0</td>\n",
       "      <td>0</td>\n",
       "      <td>0</td>\n",
       "      <td>1</td>\n",
       "      <td>0</td>\n",
       "    </tr>\n",
       "    <tr>\n",
       "      <td>4</td>\n",
       "      <td>0</td>\n",
       "      <td>0</td>\n",
       "      <td>0.246711</td>\n",
       "      <td>1</td>\n",
       "      <td>1.000000</td>\n",
       "      <td>1.000000</td>\n",
       "      <td>0.0</td>\n",
       "      <td>1.000000</td>\n",
       "      <td>0.222222</td>\n",
       "      <td>0.666667</td>\n",
       "      <td>...</td>\n",
       "      <td>0</td>\n",
       "      <td>0</td>\n",
       "      <td>1</td>\n",
       "      <td>0</td>\n",
       "      <td>0</td>\n",
       "      <td>0</td>\n",
       "      <td>0</td>\n",
       "      <td>0</td>\n",
       "      <td>1</td>\n",
       "      <td>0</td>\n",
       "    </tr>\n",
       "    <tr>\n",
       "      <td>...</td>\n",
       "      <td>...</td>\n",
       "      <td>...</td>\n",
       "      <td>...</td>\n",
       "      <td>...</td>\n",
       "      <td>...</td>\n",
       "      <td>...</td>\n",
       "      <td>...</td>\n",
       "      <td>...</td>\n",
       "      <td>...</td>\n",
       "      <td>...</td>\n",
       "      <td>...</td>\n",
       "      <td>...</td>\n",
       "      <td>...</td>\n",
       "      <td>...</td>\n",
       "      <td>...</td>\n",
       "      <td>...</td>\n",
       "      <td>...</td>\n",
       "      <td>...</td>\n",
       "      <td>...</td>\n",
       "      <td>...</td>\n",
       "      <td>...</td>\n",
       "    </tr>\n",
       "    <tr>\n",
       "      <td>32860</td>\n",
       "      <td>1</td>\n",
       "      <td>0</td>\n",
       "      <td>0.000000</td>\n",
       "      <td>1</td>\n",
       "      <td>0.804335</td>\n",
       "      <td>0.574637</td>\n",
       "      <td>0.0</td>\n",
       "      <td>0.798187</td>\n",
       "      <td>0.333333</td>\n",
       "      <td>0.416667</td>\n",
       "      <td>...</td>\n",
       "      <td>0</td>\n",
       "      <td>0</td>\n",
       "      <td>0</td>\n",
       "      <td>0</td>\n",
       "      <td>1</td>\n",
       "      <td>0</td>\n",
       "      <td>0</td>\n",
       "      <td>0</td>\n",
       "      <td>1</td>\n",
       "      <td>0</td>\n",
       "    </tr>\n",
       "    <tr>\n",
       "      <td>32861</td>\n",
       "      <td>0</td>\n",
       "      <td>0</td>\n",
       "      <td>0.126393</td>\n",
       "      <td>0</td>\n",
       "      <td>1.000000</td>\n",
       "      <td>0.574637</td>\n",
       "      <td>0.0</td>\n",
       "      <td>1.000000</td>\n",
       "      <td>0.111111</td>\n",
       "      <td>0.250000</td>\n",
       "      <td>...</td>\n",
       "      <td>0</td>\n",
       "      <td>1</td>\n",
       "      <td>0</td>\n",
       "      <td>0</td>\n",
       "      <td>0</td>\n",
       "      <td>0</td>\n",
       "      <td>1</td>\n",
       "      <td>0</td>\n",
       "      <td>0</td>\n",
       "      <td>0</td>\n",
       "    </tr>\n",
       "    <tr>\n",
       "      <td>32862</td>\n",
       "      <td>1</td>\n",
       "      <td>1</td>\n",
       "      <td>0.079334</td>\n",
       "      <td>1</td>\n",
       "      <td>1.000000</td>\n",
       "      <td>0.574637</td>\n",
       "      <td>0.0</td>\n",
       "      <td>1.000000</td>\n",
       "      <td>0.444444</td>\n",
       "      <td>0.333333</td>\n",
       "      <td>...</td>\n",
       "      <td>1</td>\n",
       "      <td>0</td>\n",
       "      <td>0</td>\n",
       "      <td>0</td>\n",
       "      <td>0</td>\n",
       "      <td>1</td>\n",
       "      <td>0</td>\n",
       "      <td>0</td>\n",
       "      <td>0</td>\n",
       "      <td>0</td>\n",
       "    </tr>\n",
       "    <tr>\n",
       "      <td>32863</td>\n",
       "      <td>0</td>\n",
       "      <td>1</td>\n",
       "      <td>0.238003</td>\n",
       "      <td>1</td>\n",
       "      <td>0.804335</td>\n",
       "      <td>1.000000</td>\n",
       "      <td>0.0</td>\n",
       "      <td>0.798187</td>\n",
       "      <td>0.222222</td>\n",
       "      <td>0.083333</td>\n",
       "      <td>...</td>\n",
       "      <td>0</td>\n",
       "      <td>0</td>\n",
       "      <td>0</td>\n",
       "      <td>0</td>\n",
       "      <td>1</td>\n",
       "      <td>0</td>\n",
       "      <td>1</td>\n",
       "      <td>0</td>\n",
       "      <td>0</td>\n",
       "      <td>0</td>\n",
       "    </tr>\n",
       "    <tr>\n",
       "      <td>32864</td>\n",
       "      <td>0</td>\n",
       "      <td>0</td>\n",
       "      <td>0.494711</td>\n",
       "      <td>1</td>\n",
       "      <td>1.000000</td>\n",
       "      <td>0.000000</td>\n",
       "      <td>0.5</td>\n",
       "      <td>1.000000</td>\n",
       "      <td>0.111111</td>\n",
       "      <td>0.750000</td>\n",
       "      <td>...</td>\n",
       "      <td>0</td>\n",
       "      <td>0</td>\n",
       "      <td>0</td>\n",
       "      <td>0</td>\n",
       "      <td>1</td>\n",
       "      <td>0</td>\n",
       "      <td>0</td>\n",
       "      <td>0</td>\n",
       "      <td>1</td>\n",
       "      <td>0</td>\n",
       "    </tr>\n",
       "  </tbody>\n",
       "</table>\n",
       "<p>32865 rows × 32 columns</p>\n",
       "</div>"
      ],
      "text/plain": [
       "       flag  gender  house_val  online  marriage     child  mortgage  \\\n",
       "0         0       0   0.126141       0  0.804335  0.574637       0.0   \n",
       "1         0       1   0.065770       1  0.804335  1.000000       0.0   \n",
       "2         1       1   0.209565       1  0.000000  0.574637       0.0   \n",
       "3         1       0   0.147162       1  1.000000  0.000000       0.5   \n",
       "4         0       0   0.246711       1  1.000000  1.000000       0.0   \n",
       "...     ...     ...        ...     ...       ...       ...       ...   \n",
       "32860     1       0   0.000000       1  0.804335  0.574637       0.0   \n",
       "32861     0       0   0.126393       0  1.000000  0.574637       0.0   \n",
       "32862     1       1   0.079334       1  1.000000  0.574637       0.0   \n",
       "32863     0       1   0.238003       1  0.804335  1.000000       0.0   \n",
       "32864     0       0   0.494711       1  1.000000  0.000000       0.5   \n",
       "\n",
       "       house_owner  car_prob  fam_income  ...  age_3  age_4  age_5  age_6  \\\n",
       "0         1.000000  0.333333    0.500000  ...      0      0      0      0   \n",
       "1         1.000000  0.111111    0.750000  ...      0      0      0      0   \n",
       "2         0.798187  0.222222    0.916667  ...      0      0      0      0   \n",
       "3         1.000000  0.111111    0.500000  ...      0      0      0      1   \n",
       "4         1.000000  0.222222    0.666667  ...      0      0      1      0   \n",
       "...            ...       ...         ...  ...    ...    ...    ...    ...   \n",
       "32860     0.798187  0.333333    0.416667  ...      0      0      0      0   \n",
       "32861     1.000000  0.111111    0.250000  ...      0      1      0      0   \n",
       "32862     1.000000  0.444444    0.333333  ...      1      0      0      0   \n",
       "32863     0.798187  0.222222    0.083333  ...      0      0      0      0   \n",
       "32864     1.000000  0.111111    0.750000  ...      0      0      0      0   \n",
       "\n",
       "       age_7  education_1  education_2  education_3  education_4  education_5  \n",
       "0          1            0            0            0            1            0  \n",
       "1          0            0            0            1            0            0  \n",
       "2          0            0            0            1            0            0  \n",
       "3          0            0            0            0            1            0  \n",
       "4          0            0            0            0            1            0  \n",
       "...      ...          ...          ...          ...          ...          ...  \n",
       "32860      1            0            0            0            1            0  \n",
       "32861      0            0            1            0            0            0  \n",
       "32862      0            1            0            0            0            0  \n",
       "32863      1            0            1            0            0            0  \n",
       "32864      1            0            0            0            1            0  \n",
       "\n",
       "[32865 rows x 32 columns]"
      ]
     },
     "execution_count": 43,
     "metadata": {},
     "output_type": "execute_result"
    }
   ],
   "source": [
    "df"
   ]
  },
  {
   "cell_type": "markdown",
   "metadata": {},
   "source": [
    "## F1 Score Measurement"
   ]
  },
  {
   "cell_type": "code",
   "execution_count": 44,
   "metadata": {},
   "outputs": [],
   "source": [
    "X_train, X_test, y_train, y_test = train_test_split(X, y, test_size=0.3)\n",
    "# scale to handle imbalanced dataset\n",
    "scale = y_train[y_train == 0].count() / y_train[y_train == 1].count()"
   ]
  },
  {
   "cell_type": "markdown",
   "metadata": {},
   "source": [
    "### LogisticRegressionm, SVC, DecisionTree and RandomForest,\n",
    "### polyfeatures , Adaboost classifiers\n",
    "train 5 different models and evaluate results"
   ]
  },
  {
   "cell_type": "code",
   "execution_count": 45,
   "metadata": {},
   "outputs": [
    {
     "name": "stdout",
     "output_type": "stream",
     "text": [
      "LogisticRegression F1 score = 0.7063063063063064\n",
      "SVC F1 score = 0.7203538192204921\n",
      "DecisionTreeClassifier F1 score = 0.7009100455022751\n",
      "RandomForestClassifier F1 score = 0.6807024352381877\n"
     ]
    },
    {
     "name": "stderr",
     "output_type": "stream",
     "text": [
      "C:\\ProgramData\\Anaconda3\\lib\\site-packages\\sklearn\\svm\\base.py:929: ConvergenceWarning: Liblinear failed to converge, increase the number of iterations.\n",
      "  \"the number of iterations.\", ConvergenceWarning)\n"
     ]
    },
    {
     "name": "stdout",
     "output_type": "stream",
     "text": [
      "Pipeline F1 score = 0.7167938229616694\n",
      "AdaBoostClassifier F1 score = 0.7023686920700309\n"
     ]
    }
   ],
   "source": [
    "lr = LogisticRegression(C=1, solver='lbfgs')\n",
    "clf = SVC(kernel='rbf', gamma='auto')\n",
    "dtree = DecisionTreeClassifier(criterion=\"entropy\", max_depth=4)\n",
    "rfc = RandomForestClassifier(n_estimators=40)\n",
    "svm_clf = Pipeline([(\"poly_features\" , PolynomialFeatures(degree=2) ) , ( \"scaler\" , StandardScaler() ) , (\"svm_clf\" , LinearSVC(C=1, loss=\"hinge\"))] ) \n",
    "ada_clf = AdaBoostClassifier(DecisionTreeClassifier(max_depth=1) , n_estimators=400, algorithm=\"SAMME.R\" , learning_rate=0.01)\n",
    "\n",
    "classification_list = [lr, clf, dtree, rfc, svm_clf, ada_clf]\n",
    "\n",
    "def scorer(class_list):\n",
    "    for every in (class_list):\n",
    "        every.fit(X_train,y_train)\n",
    "        print (every.__class__.__name__, 'F1 score =', f1_score(y_test,every.predict(X_test)))\n",
    "scorer (classification_list)"
   ]
  },
  {
   "cell_type": "markdown",
   "metadata": {},
   "source": [
    "# XGboost Classifier\n",
    "The best model"
   ]
  },
  {
   "cell_type": "code",
   "execution_count": 46,
   "metadata": {},
   "outputs": [
    {
     "name": "stdout",
     "output_type": "stream",
     "text": [
      "F1 Score: 71.87%\n"
     ]
    }
   ],
   "source": [
    "xgbmodel = XGBClassifier(max_depth=3, learning_rate=0.01, n_estimators=1000)\n",
    "xgbmodel.fit(X_train, y_train)\n",
    "y_pred_test = xgbmodel.predict(X_test)\n",
    "\n",
    "print('F1 Score: {:.2f}%'.format(f1_score(y_test, y_pred_test)*100))"
   ]
  },
  {
   "cell_type": "markdown",
   "metadata": {},
   "source": [
    "## Feature Importance\n",
    "measure the amount of importance of each attribiute (correlation)"
   ]
  },
  {
   "cell_type": "code",
   "execution_count": 52,
   "metadata": {},
   "outputs": [
    {
     "name": "stdout",
     "output_type": "stream",
     "text": [
      "Feature: gender, Score: 0.08671\n",
      "Feature: house_val, Score: 0.06192\n",
      "Feature: online, Score: 0.06803\n",
      "Feature: marriage, Score: 0.02826\n",
      "Feature: child, Score: 0.01446\n",
      "Feature: mortgage, Score: 0.08140\n",
      "Feature: house_owner, Score: 0.00385\n",
      "Feature: car_prob, Score: 0.06667\n",
      "Feature: fam_income, Score: 0.02865\n",
      "Feature: occupation_Blue Collar, Score: 0.00427\n",
      "Feature: occupation_Farm, Score: 0.00356\n",
      "Feature: occupation_Others, Score: 0.00547\n",
      "Feature: occupation_Professional, Score: 0.17679\n",
      "Feature: occupation_Retired, Score: 0.04550\n",
      "Feature: occupation_Sales/Service, Score: 0.00344\n",
      "Feature: region_Midwest, Score: 0.00704\n",
      "Feature: region_Northeast, Score: 0.00250\n",
      "Feature: region_Rest, Score: 0.00543\n",
      "Feature: region_South, Score: 0.00786\n",
      "Feature: region_West, Score: 0.00595\n",
      "Feature: age_2, Score: 0.03363\n",
      "Feature: age_3, Score: 0.01298\n",
      "Feature: age_4, Score: 0.01723\n",
      "Feature: age_5, Score: 0.02684\n",
      "Feature: age_6, Score: 0.00824\n",
      "Feature: age_7, Score: 0.05692\n",
      "Feature: education_1, Score: 0.02113\n",
      "Feature: education_2, Score: 0.04987\n",
      "Feature: education_3, Score: 0.00376\n",
      "Feature: education_4, Score: 0.03446\n",
      "Feature: education_5, Score: 0.02719\n"
     ]
    }
   ],
   "source": [
    "importance = xgbmodel.feature_importances_\n",
    "\n",
    "# summarize feature importance\n",
    "for i,v in enumerate(importance):\n",
    "\tprint('Feature: %s, Score: %.5f' % (X_train.columns[i],v))"
   ]
  },
  {
   "cell_type": "code",
   "execution_count": 48,
   "metadata": {},
   "outputs": [
    {
     "data": {
      "text/plain": [
       "<matplotlib.axes._subplots.AxesSubplot at 0x22906768308>"
      ]
     },
     "execution_count": 48,
     "metadata": {},
     "output_type": "execute_result"
    },
    {
     "data": {
      "image/png": "[encoded data removed]",
      "text/plain": [
       "<Figure size 720x720 with 1 Axes>"
      ]
     },
     "metadata": {
      "needs_background": "light"
     },
     "output_type": "display_data"
    }
   ],
   "source": [
    "df2 = df.drop('flag', axis=1)\n",
    "df2 = pd.DataFrame({'Importance': importance}, index=df2.columns)\n",
    "df2.plot(kind='barh', title=\"Impact of features\",figsize=(10,10))"
   ]
  },
  {
   "cell_type": "markdown",
   "metadata": {},
   "source": [
    "### For Example See Occupation Professional Impact\n"
   ]
  },
  {
   "cell_type": "code",
   "execution_count": 49,
   "metadata": {},
   "outputs": [
    {
     "data": {
      "text/plain": [
       "<matplotlib.axes._subplots.AxesSubplot at 0x229061bb108>"
      ]
     },
     "execution_count": 49,
     "metadata": {},
     "output_type": "execute_result"
    },
    {
     "data": {
      "image/png": "[encoded data removed]",
      "text/plain": [
       "<Figure size 432x288 with 1 Axes>"
      ]
     },
     "metadata": {
      "needs_background": "light"
     },
     "output_type": "display_data"
    }
   ],
   "source": [
    "sns.countplot(x='occupation_Professional',hue='flag',data=df)"
   ]
  },
  {
   "cell_type": "code",
   "execution_count": 50,
   "metadata": {},
   "outputs": [
    {
     "data": {
      "text/plain": [
       "<matplotlib.axes._subplots.AxesSubplot at 0x22906024b08>"
      ]
     },
     "execution_count": 50,
     "metadata": {},
     "output_type": "execute_result"
    },
    {
     "data": {
      "image/png": "[encoded data removed]",
      "text/plain": [
       "<Figure size 1152x432 with 3 Axes>"
      ]
     },
     "metadata": {
      "needs_background": "light"
     },
     "output_type": "display_data"
    }
   ],
   "source": [
    "f,ax=plt.subplots(1,3,figsize=(16,6))\n",
    "sns.countplot(x='gender',hue='flag',data=main_df,ax=ax[0])\n",
    "sns.countplot(x='online',hue='flag',data=main_df,ax=ax[1])\n",
    "sns.countplot(x='marriage',hue='flag',data=main_df,ax=ax[2])"
   ]
  },
  {
   "cell_type": "markdown",
   "metadata": {},
   "source": []
  },
  {
   "cell_type": "code",
   "execution_count": 51,
   "metadata": {},
   "outputs": [
    {
     "ename": "ModuleNotFoundError",
     "evalue": "No module named 'shap'",
     "output_type": "error",
     "traceback": [
      "\u001b[1;31m---------------------------------------------------------------------------\u001b[0m",
      "\u001b[1;31mModuleNotFoundError\u001b[0m                       Traceback (most recent call last)",
      "\u001b[1;32m<ipython-input-51-75f6880dd3a6>\u001b[0m in \u001b[0;36m<module>\u001b[1;34m\u001b[0m\n\u001b[1;32m----> 1\u001b[1;33m \u001b[1;32mimport\u001b[0m \u001b[0mshap\u001b[0m\u001b[1;33m\u001b[0m\u001b[1;33m\u001b[0m\u001b[0m\n\u001b[0m\u001b[0;32m      2\u001b[0m \u001b[0mshap\u001b[0m\u001b[1;33m.\u001b[0m\u001b[0minitjs\u001b[0m\u001b[1;33m(\u001b[0m\u001b[1;33m)\u001b[0m\u001b[1;33m\u001b[0m\u001b[1;33m\u001b[0m\u001b[0m\n\u001b[0;32m      3\u001b[0m \u001b[1;33m\u001b[0m\u001b[0m\n\u001b[0;32m      4\u001b[0m \u001b[1;31m# explain the model's predictions using SHAP values\u001b[0m\u001b[1;33m\u001b[0m\u001b[1;33m\u001b[0m\u001b[1;33m\u001b[0m\u001b[0m\n\u001b[0;32m      5\u001b[0m \u001b[0mexplainer\u001b[0m \u001b[1;33m=\u001b[0m \u001b[0mshap\u001b[0m\u001b[1;33m.\u001b[0m\u001b[0mTreeExplainer\u001b[0m\u001b[1;33m(\u001b[0m\u001b[0mxgbmodel\u001b[0m\u001b[1;33m)\u001b[0m\u001b[1;33m\u001b[0m\u001b[1;33m\u001b[0m\u001b[0m\n",
      "\u001b[1;31mModuleNotFoundError\u001b[0m: No module named 'shap'"
     ]
    }
   ],
   "source": [
    "import shap\n",
    "shap.initjs()\n",
    "\n",
    "# explain the model's predictions using SHAP values\n",
    "explainer = shap.TreeExplainer(xgbmodel)\n",
    "shap_values = explainer.shap_values(X_train)"
   ]
  },
  {
   "cell_type": "code",
   "execution_count": null,
   "metadata": {},
   "outputs": [],
   "source": [
    "# summarize the effects of all the features\n",
    "shap.summary_plot(shap_values, X_train)\n",
    "shap.summary_plot(shap_values, X_train, plot_type=\"bar\")"
   ]
  },
  {
   "cell_type": "code",
   "execution_count": null,
   "metadata": {},
   "outputs": [],
   "source": [
    "# For Example Imact of car_prob\n",
    "sns.countplot(x='car_prob',hue='flag',data=df)"
   ]
  },
  {
   "cell_type": "code",
   "execution_count": null,
   "metadata": {},
   "outputs": [],
   "source": [
    "X_output = X_test.copy()\n",
    "\n",
    "# Randomly pick some observations\n",
    "random_picks = np.arange(1,9000,10) # Every 10 rows of 9000 rows of test_set\n",
    "S = X_output.iloc[random_picks]"
   ]
  },
  {
   "cell_type": "code",
   "execution_count": null,
   "metadata": {},
   "outputs": [],
   "source": [
    "def shap_plot(j,model):\n",
    "    explainerModel = shap.TreeExplainer(model)\n",
    "    shap_values_Model = explainerModel.shap_values(S)\n",
    "    p = shap.force_plot(explainerModel.expected_value, shap_values_Model, S)\n",
    "    return(p)\n",
    "\n",
    "shap_plot(0, xgbmodel)"
   ]
  },
  {
   "cell_type": "markdown",
   "metadata": {},
   "source": [
    "# Second Approach"
   ]
  },
  {
   "cell_type": "markdown",
   "metadata": {},
   "source": [
    "# Handle missing values using clustering:\n",
    "در این روش برای انتخاب جایگزین مناسب مقادیر نامشخص، ابتدا روی تمام داده ها خوشه بندی انجام می دهیم و سپس در هر خوشه مقادیر نامشخص هر یک از ویژگی ها را با مقدار پرتکرار آن ویژگی در همان خوشه جایگزین می کنیم"
   ]
  },
  {
   "cell_type": "markdown",
   "metadata": {},
   "source": [
    "### Find best k for KMeans clustering"
   ]
  },
  {
   "cell_type": "code",
   "execution_count": null,
   "metadata": {},
   "outputs": [],
   "source": [
    "sqaured_error =[] \n",
    "for i in range(1, 20): \n",
    "    KM = KMeans(n_clusters = i, max_iter = 100) \n",
    "    KM.fit(temp_df) \n",
    "    sqaured_error.append(KM.inertia_)      \n",
    "  \n",
    "plt.plot(range(1, 20), sqaured_error, color ='r', linewidth ='3') \n",
    "plt.xlabel(\"K\") \n",
    "plt.ylabel(\"Sqaured Error\") \n",
    "plt.show()"
   ]
  },
  {
   "cell_type": "markdown",
   "metadata": {},
   "source": [
    "### Clustering data with kmeans"
   ]
  },
  {
   "cell_type": "code",
   "execution_count": null,
   "metadata": {},
   "outputs": [],
   "source": [
    "numOfClusters = 3\n",
    "KM = KMeans(n_clusters = numOfClusters, max_iter = 100) \n",
    "KM.fit(temp_df.drop(\"index\", 1))"
   ]
  },
  {
   "cell_type": "code",
   "execution_count": null,
   "metadata": {
    "scrolled": true
   },
   "outputs": [],
   "source": [
    "dfs=[]\n",
    "for i in range(numOfClusters):\n",
    "    dfs.append(pd.DataFrame())"
   ]
  },
  {
   "cell_type": "code",
   "execution_count": null,
   "metadata": {},
   "outputs": [],
   "source": [
    "for i in range(len(temp_df)):\n",
    "    dfs[KM.labels_[i]]= dfs[KM.labels_[i]].append(temp_df.iloc[i])"
   ]
  },
  {
   "cell_type": "code",
   "execution_count": null,
   "metadata": {},
   "outputs": [],
   "source": [
    "for i in range (numOfClusters):\n",
    "    print(dfs[i].shape)"
   ]
  },
  {
   "cell_type": "code",
   "execution_count": null,
   "metadata": {},
   "outputs": [],
   "source": [
    "cluster_mod =[[None for x in range(dfs[0].shape[1])] for y in range(numOfClusters)]"
   ]
  },
  {
   "cell_type": "code",
   "execution_count": null,
   "metadata": {},
   "outputs": [],
   "source": [
    "attrs = temp_df.columns.values"
   ]
  },
  {
   "cell_type": "code",
   "execution_count": null,
   "metadata": {},
   "outputs": [],
   "source": [
    "for i in range(numOfClusters):\n",
    "    for j, attr in enumerate(attrs):\n",
    "        if(attr != \"house_val\" ):\n",
    "            cluster_mod[i][j]=dfs[i][attr].mode()"
   ]
  },
  {
   "cell_type": "code",
   "execution_count": null,
   "metadata": {},
   "outputs": [],
   "source": [
    "nullable_df = main_df[main_df.isnull().any(axis=1)]"
   ]
  },
  {
   "cell_type": "code",
   "execution_count": null,
   "metadata": {},
   "outputs": [],
   "source": [
    "nullable_df"
   ]
  },
  {
   "cell_type": "markdown",
   "metadata": {},
   "source": [
    "## Fill null values with cluster labels\n",
    "بعد از خوشه بندی مقادیر نامشخص در داده های خام اصلی را با مقادیر جدید جایگزین می کنیم"
   ]
  },
  {
   "cell_type": "code",
   "execution_count": null,
   "metadata": {},
   "outputs": [],
   "source": [
    "for i in range(len(nullable_df)):\n",
    "    index = nullable_df.iloc[i][0]\n",
    "    for j in range(len(nullable_df.iloc[i])):\n",
    "        if str(nullable_df.iloc[i][j])==\"nan\":\n",
    "            temp_df.at[index,attrs[j]] = cluster_mod[KM.labels_[index]][j]"
   ]
  },
  {
   "cell_type": "code",
   "execution_count": null,
   "metadata": {},
   "outputs": [],
   "source": [
    "temp_df"
   ]
  },
  {
   "cell_type": "markdown",
   "metadata": {},
   "source": [
    "مشابه قبل عمل کلاسبندی را انجام می دهیم\n",
    "## Splitting Train and Test Set"
   ]
  },
  {
   "cell_type": "code",
   "execution_count": null,
   "metadata": {},
   "outputs": [],
   "source": [
    "df=temp_df.drop(\"index\",1).copy()"
   ]
  },
  {
   "cell_type": "code",
   "execution_count": null,
   "metadata": {},
   "outputs": [],
   "source": [
    "X = df.drop('flag', axis=1)\n",
    "y = df['flag']\n",
    "\n",
    "X_train, X_test, y_train, y_test = train_test_split(X, y, test_size=0.3)\n",
    "\n",
    "# scale to handle imbalanced dataset\n",
    "scale = y_train[y_train == 0].count() / y_train[y_train == 1].count()"
   ]
  },
  {
   "cell_type": "markdown",
   "metadata": {},
   "source": [
    "## Some Classifications"
   ]
  },
  {
   "cell_type": "code",
   "execution_count": null,
   "metadata": {},
   "outputs": [],
   "source": [
    "lr = LogisticRegression(C=1, solver='lbfgs')\n",
    "clf = SVC(kernel='rbf', gamma='auto')\n",
    "dtree = DecisionTreeClassifier(criterion=\"entropy\", max_depth=4)\n",
    "rfc = RandomForestClassifier(n_estimators=40)\n",
    "svm_clf = Pipeline([(\"poly_features\" , PolynomialFeatures(degree=2) ) , ( \"scaler\" , StandardScaler() ) , (\"svm_clf\" , LinearSVC(C=1, loss=\"hinge\"))] ) \n",
    "ada_clf = AdaBoostClassifier(DecisionTreeClassifier(max_depth=1) , n_estimators=400, algorithm=\"SAMME.R\" , learning_rate=0.01)\n",
    "\n",
    "classification_list = [lr, clf, dtree, rfc, svm_clf, ada_clf]\n",
    "\n",
    "def scorer(class_list):\n",
    "    for every in (class_list):\n",
    "        every.fit(X_train,y_train)\n",
    "        print (every.__class__.__name__, 'F1 score =', f1_score(y_test,every.predict(X_test)))\n",
    "scorer (classification_list)"
   ]
  },
  {
   "cell_type": "markdown",
   "metadata": {},
   "source": [
    "## XGBOOST"
   ]
  },
  {
   "cell_type": "code",
   "execution_count": null,
   "metadata": {
    "scrolled": true
   },
   "outputs": [],
   "source": [
    "xgbmodel = XGBClassifier(max_depth=3, learning_rate=0.02, n_estimators=800, scale_pos_weight=scale)\n",
    "xgbmodel.fit(X_train, y_train)\n",
    "y_pred_test = xgbmodel.predict(X_test)\n",
    "\n",
    "print('F1 Score: {:.2f}%'.format(f1_score(y_test, y_pred_test)*100))"
   ]
  },
  {
   "cell_type": "code",
   "execution_count": null,
   "metadata": {},
   "outputs": [],
   "source": [
    "import shap\n",
    "shap.initjs()\n",
    "\n",
    "# explain the model's predictions using SHAP values\n",
    "explainer = shap.TreeExplainer(xgbmodel)\n",
    "shap_values = explainer.shap_values(X_train)"
   ]
  },
  {
   "cell_type": "code",
   "execution_count": null,
   "metadata": {},
   "outputs": [],
   "source": [
    "# summarize the effects of all the features\n",
    "shap.summary_plot(shap_values, X_train)\n",
    "shap.summary_plot(shap_values, X_train, plot_type=\"bar\")"
   ]
  },
  {
   "cell_type": "code",
   "execution_count": null,
   "metadata": {},
   "outputs": [],
   "source": [
    "# For Example Imact of car_prob\n",
    "sns.countplot(x='car_prob',hue='flag',data=df)"
   ]
  },
  {
   "cell_type": "code",
   "execution_count": null,
   "metadata": {},
   "outputs": [],
   "source": [
    "X_output = X_test.copy()\n",
    "\n",
    "# Randomly pick some observations\n",
    "random_picks = np.arange(1,9000,10) # Every 10 rows of 9000 rows of test_set\n",
    "S = X_output.iloc[random_picks]"
   ]
  },
  {
   "cell_type": "code",
   "execution_count": null,
   "metadata": {},
   "outputs": [],
   "source": [
    "def shap_plot(j,model):\n",
    "    explainerModel = shap.TreeExplainer(model)\n",
    "    shap_values_Model = explainerModel.shap_values(S)\n",
    "    p = shap.force_plot(explainerModel.expected_value, shap_values_Model, S)\n",
    "    return(p)\n",
    "\n",
    "shap_plot(0, xgbmodel)"
   ]
  },
  {
   "cell_type": "markdown",
   "metadata": {},
   "source": [
    "# Conclusion\n",
    "بر اساس نتایج به دست آمده می توانیم مشاهده کنیم که افراد دارای ویژگی هایی با مقادیر زیر می تواند انتخاب مناسبی برای هدف تبلیغات ما باشد.\n",
    "## To target people we consider these values of features:"
   ]
  },
  {
   "cell_type": "markdown",
   "metadata": {},
   "source": [
    "### 1- Gender: Male\n",
    "### 2- Online Experience\n",
    "### 3- High House Value\n",
    "### 4- Occupation: Professional\n",
    "### 5- car prob: Low"
   ]
  },
  {
   "cell_type": "code",
   "execution_count": null,
   "metadata": {},
   "outputs": [],
   "source": []
  }
 ],
 "metadata": {
  "celltoolbar": "Raw Cell Format",
  "kernelspec": {
   "display_name": "Python 3",
   "language": "python",
   "name": "python3"
  },
  "language_info": {
   "codemirror_mode": {
    "name": "ipython",
    "version": 3
   },
   "file_extension": ".py",
   "mimetype": "text/x-python",
   "name": "python",
   "nbconvert_exporter": "python",
   "pygments_lexer": "ipython3",
   "version": "3.8.3"
  }
 },
 "nbformat": 4,
 "nbformat_minor": 2
}
